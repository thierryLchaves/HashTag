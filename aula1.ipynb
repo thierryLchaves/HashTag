{
 "cells": [
  {
   "cell_type": "markdown",
   "metadata": {},
   "source": [
    "Aula 1 -  Criando seu primeiro programa\n",
    "\n",
    "    No Python, o intuito é parecer com uma escrita em ingles, sendo assim como em outras linguagens, seus comando são em inglês \n",
    "    Print, show etc..\n",
    "    Quando o texto for escrito a padronização do texto deverá ser com ''"
   ]
  },
  {
   "cell_type": "code",
   "execution_count": null,
   "metadata": {},
   "outputs": [],
   "source": [
    "print(\"Olá mundo!\")"
   ]
  },
  {
   "cell_type": "code",
   "execution_count": null,
   "metadata": {},
   "outputs": [],
   "source": [
    "print('Olá mundo')"
   ]
  },
  {
   "cell_type": "markdown",
   "metadata": {},
   "source": [
    "Aula 2 -  Operações Básicas Operações matemáticas \n",
    "\n",
    "    Os operadores em python seguem a lógica de utilização matemática sendo:\n",
    "    * Soma + \n",
    "    * Subtração -\n",
    "    * Multiplicação *\n",
    "    * Potência **\n",
    "    * Divisão / (Em python as casas decimais serão separadas por \".\" ponto e não \",\" virgula)\n",
    "    * Mod % (Resto da divisão) \n",
    "\n",
    "    Assim como em outras linguagens, o python também diferencia as casas decimais por meio do ponto, bem como a difrenciação do tipos de dados, em operações quando possui um número real, o resultado também será em número real \n",
    "\n",
    "    Ao realizar uma conta com resultado indivisivel, será apresentado um erro \"ZeroDivisionError Traceback (most recent call last)\"\n"
   ]
  },
  {
   "cell_type": "code",
   "execution_count": null,
   "metadata": {},
   "outputs": [],
   "source": [
    "print(1+1)\n",
    "print(2-1)\n",
    "print(2*3)\n",
    "print(2**3)\n",
    "print(2/3)\n",
    "print(2.2 * 5)\n",
    "print(2*5)\n",
    "#print(2/0)\n",
    "print(7 % 3)"
   ]
  },
  {
   "cell_type": "markdown",
   "metadata": {},
   "source": [
    "Aula 3 - Ordem das Operações no Python\n",
    "\n",
    "    As operações em python seguem a mesma ordem e lógica, das operações artiméticas.\n",
    "    Em casos de priorizações diferentes da prioridade matemática, deverá ser realizada a priorização por parênteses tal qual é feito ná matemática \n",
    "    ex: print((2+1)*3), nesse caso será executado primeiro a operação dentro do parênteses posteriormente a multiplicação que está fora."
   ]
  },
  {
   "cell_type": "code",
   "execution_count": null,
   "metadata": {},
   "outputs": [],
   "source": [
    "print(1+2*3)\n",
    "print((2+1)*3)"
   ]
  },
  {
   "cell_type": "markdown",
   "metadata": {},
   "source": [
    "Aula 4 - Operações com texto (String)\n",
    "\n",
    "    Quando estiver algo entre ' ou \" será considerado como string\n",
    "\n",
    "    Para concatenar em python o caractere usuado é +\n",
    "    Ex: print('meu nome é'+' thierry')\n",
    "\n",
    "    Outro comando para verificação se um texto está contido dentro de outro texto o comando utilizado será IN, e seu resultado será booleano \n",
    "        PS: É importante se atentar que o comando IN é case sensitive \n",
    "    EX: print('t' in 'thierry')\n",
    "    E de boa prática no python que se de espaços entre os números das operações seja em strings ou númericas\n",
    "    "
   ]
  },
  {
   "cell_type": "code",
   "execution_count": 33,
   "metadata": {},
   "outputs": [
    {
     "name": "stdout",
     "output_type": "stream",
     "text": [
      "thierry\n",
      "True\n",
      "False\n",
      "True\n"
     ]
    }
   ],
   "source": [
    "print('thierry')\n",
    "print('t' in 'thierry')\n",
    "print('T' in 'thierry')\n",
    "print('l' in 'lira é meu professor')"
   ]
  },
  {
   "cell_type": "code",
   "execution_count": null,
   "metadata": {},
   "outputs": [],
   "source": []
  }
 ],
 "metadata": {
  "kernelspec": {
   "display_name": "Python 3",
   "language": "python",
   "name": "python3"
  },
  "language_info": {
   "codemirror_mode": {
    "name": "ipython",
    "version": 3
   },
   "file_extension": ".py",
   "mimetype": "text/x-python",
   "name": "python",
   "nbconvert_exporter": "python",
   "pygments_lexer": "ipython3",
   "version": "3.12.0"
  }
 },
 "nbformat": 4,
 "nbformat_minor": 2
}
