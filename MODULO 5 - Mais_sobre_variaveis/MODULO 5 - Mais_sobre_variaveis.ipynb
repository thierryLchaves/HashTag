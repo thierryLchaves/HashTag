{
 "cells": [
  {
   "cell_type": "markdown",
   "metadata": {},
   "source": [
    "### Aula 1 - Ordem de execução dos Programas\n",
    "\n",
    "        \n",
    "\n",
    "    Em python a ordem de execução, assim como em outras linguagens o código será lido de cima para baixo, ou seja se a operação mátematica for escrita anteriormente da exibição dos dados, a operação não será exibida, assim como exibido no exemplo abaixo, é exibido o erro, pois programa não reconheceu a variável ainda."
   ]
  },
  {
   "cell_type": "code",
   "execution_count": 3,
   "metadata": {},
   "outputs": [
    {
     "ename": "NameError",
     "evalue": "name 'faturamento' is not defined",
     "output_type": "error",
     "traceback": [
      "\u001b[1;31m---------------------------------------------------------------------------\u001b[0m",
      "\u001b[1;31mNameError\u001b[0m                                 Traceback (most recent call last)",
      "\u001b[1;32mc:\\Users\\tlchaves\\Documents\\HashTag\\MODULO 5 - Mais_sobre_variaveis\\MODULO 5 - Mais_sobre_variaveis.ipynb Célula 2\u001b[0m line \u001b[0;36m1\n\u001b[1;32m----> <a href='vscode-notebook-cell:/c%3A/Users/tlchaves/Documents/HashTag/MODULO%205%20-%20Mais_sobre_variaveis/MODULO%205%20-%20Mais_sobre_variaveis.ipynb#W5sZmlsZQ%3D%3D?line=0'>1</a>\u001b[0m \u001b[39mprint\u001b[39m(faturamento)\n\u001b[0;32m      <a href='vscode-notebook-cell:/c%3A/Users/tlchaves/Documents/HashTag/MODULO%205%20-%20Mais_sobre_variaveis/MODULO%205%20-%20Mais_sobre_variaveis.ipynb#W5sZmlsZQ%3D%3D?line=2'>3</a>\u001b[0m faturamento \u001b[39m=\u001b[39m \u001b[39m1000\u001b[39m\n",
      "\u001b[1;31mNameError\u001b[0m: name 'faturamento' is not defined"
     ]
    }
   ],
   "source": [
    "print(faturamento)\n",
    "\n",
    "faturamento = 1000"
   ]
  },
  {
   "cell_type": "code",
   "execution_count": 5,
   "metadata": {},
   "outputs": [
    {
     "name": "stdout",
     "output_type": "stream",
     "text": [
      "1000\n"
     ]
    }
   ],
   "source": [
    "faturamento = 1000\n",
    "\n",
    "print(faturamento)"
   ]
  },
  {
   "cell_type": "markdown",
   "metadata": {},
   "source": [
    "        Assim como mostrado no exemplo acima, a ordem importa não somente para exibição dos dados mas também, em outras situações. Quando um programa utiliza mais variaveis, essa variável poderá mudar os seus valores ao longo do código, conforme exemplo abaixo.\n",
    "\n",
    "        No exemplo abaixo, é demonstrado a seguinte situação,  mesmo que as variaveis originais tenham seu valor alterado, se não for solicitado a atualização do variável que contem o valor do calculo, esse ainda estará armazenado em mémoria o valor da primeira execução. \n",
    "\n",
    "        PS: Não é necessário realizar a impressão em tela para que esse calculo seja executado, porém e uma forma de realizar o debug"
   ]
  },
  {
   "cell_type": "code",
   "execution_count": null,
   "metadata": {},
   "outputs": [],
   "source": [
    "faturamento = 1000\n",
    "custo = 500\n",
    "lucro = faturamento -custo\n",
    "print(lucro)\n",
    "\n",
    "custo = 700\n",
    "lucro = faturamento - custo\n",
    "\n",
    "print(lucro)\n",
    "\n"
   ]
  },
  {
   "cell_type": "markdown",
   "metadata": {},
   "source": [
    "## Aula 2 - Tipos de Variáveis \n",
    "\n",
    "##  Tipos de variáveis em Python\n",
    "\n",
    "* int -> Inteiro \n",
    "* String ->  Texto \n",
    "* Float -> Números com casas Decimais(Ponto Flutuante)\n",
    "* Bool ou Boolean -> True ou False \n",
    "\n",
    "        Obs: As variáveis em python não são declaradas explicitamente, mas isso não significa que você deve ficar mudando o tempo todo\n",
    "\n",
    "        obs2: Cuidado com os nomes restritos (Arquivo para Download)       \n",
    "        "
   ]
  },
  {
   "cell_type": "code",
   "execution_count": 10,
   "metadata": {},
   "outputs": [
    {
     "data": {
      "text/plain": [
       "int"
      ]
     },
     "execution_count": 10,
     "metadata": {},
     "output_type": "execute_result"
    }
   ],
   "source": [
    "faturamento = 1000\n",
    "type(faturamento)"
   ]
  },
  {
   "cell_type": "code",
   "execution_count": 11,
   "metadata": {},
   "outputs": [
    {
     "data": {
      "text/plain": [
       "float"
      ]
     },
     "execution_count": 11,
     "metadata": {},
     "output_type": "execute_result"
    }
   ],
   "source": [
    "faturamento = 1000.00\n",
    "type(faturamento)"
   ]
  },
  {
   "cell_type": "code",
   "execution_count": 12,
   "metadata": {},
   "outputs": [
    {
     "data": {
      "text/plain": [
       "str"
      ]
     },
     "execution_count": 12,
     "metadata": {},
     "output_type": "execute_result"
    }
   ],
   "source": [
    "faturamento = '1.000'\n",
    "type(faturamento)"
   ]
  },
  {
   "cell_type": "code",
   "execution_count": 13,
   "metadata": {},
   "outputs": [
    {
     "data": {
      "text/plain": [
       "bool"
      ]
     },
     "execution_count": 13,
     "metadata": {},
     "output_type": "execute_result"
    }
   ],
   "source": [
    "ganha_bonus = True\n",
    "type(ganha_bonus)"
   ]
  },
  {
   "cell_type": "markdown",
   "metadata": {},
   "source": [
    "        Até o presente momento, foi utilizado a atribuição indireta de valor para aquela variável sem a necessidade de declaração do tipo de variável, pois no Python não é necessário realizar essa declaração,  porém is apartir do momento em que é atribuido um valor a sua variável, o python já assume aquele valor para aquela variavél.\n",
    "\n",
    "        Isso é bastante utilizado em python pois dado essa não necessidade de declaração de variáveis, uma variável em python pode ser uma lista, um arquivo, uma array etc...\n",
    "        Tal fato também se da pois no python as variavéis já são um objeto, que na prática significa que \"tudo é uma caixinha\", e essa caixinha tem propriedade e metodos, ou seja como toda variável é um objeto ele sempre se utiliza-ra desse artificio \n",
    "\n",
    "        Apesar de uma variável em Python \"pode ser qualquer coisa\", não é indicado que seja e realizada a mudança constantemente  da variável, ou seja a a variável e declarada inicialmente como number e ao decorrer for realizando a modificação dessa variável \n",
    "\n",
    "        Nos exemplos acima o método TYPE é utilizado para \"descobrir\" qual é o tipo da variável \n",
    "        \n",
    "        É importante também se atentar por exemplo quando for realizar a impressão dos resultados ou algo do tipo, mesmo que for concatenado e necessário parsear aquele resultado. e isso será visto adiante. \n",
    "        Mesmo com todas essa considerações é imporante se atentar que python também seguira as boas práticas do mercado, não pode-se nomear uma variável com acentuação, e também não poderá realizar a declaração de variáveis como os nomes reservados do sistema como ex: type, int, number etc....\n",
    "        "
   ]
  }
 ],
 "metadata": {
  "kernelspec": {
   "display_name": "Python 3",
   "language": "python",
   "name": "python3"
  },
  "language_info": {
   "codemirror_mode": {
    "name": "ipython",
    "version": 3
   },
   "file_extension": ".py",
   "mimetype": "text/x-python",
   "name": "python",
   "nbconvert_exporter": "python",
   "pygments_lexer": "ipython3",
   "version": "3.12.0"
  }
 },
 "nbformat": 4,
 "nbformat_minor": 2
}
