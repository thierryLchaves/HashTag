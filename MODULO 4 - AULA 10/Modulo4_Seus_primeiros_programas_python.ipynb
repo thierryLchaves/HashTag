{
 "cells": [
  {
   "cell_type": "markdown",
   "metadata": {},
   "source": [
    "Aula 1 -  Criando seu primeiro programa\n",
    "\n",
    "    No Python, o intuito é parecer com uma escrita em ingles, sendo assim como em outras linguagens, seus comando são em inglês \n",
    "    Print, show etc..\n",
    "    Quando o texto for escrito a padronização do texto deverá ser com ''"
   ]
  },
  {
   "cell_type": "code",
   "execution_count": null,
   "metadata": {},
   "outputs": [],
   "source": [
    "print(\"Olá mundo!\")"
   ]
  },
  {
   "cell_type": "code",
   "execution_count": null,
   "metadata": {},
   "outputs": [],
   "source": [
    "print('Olá mundo')"
   ]
  },
  {
   "cell_type": "markdown",
   "metadata": {},
   "source": [
    "Aula 2 -  Operações Básicas Operações matemáticas \n",
    "\n",
    "    Os operadores em python seguem a lógica de utilização matemática sendo:\n",
    "    * Soma + \n",
    "    * Subtração -\n",
    "    * Multiplicação *\n",
    "    * Potência **\n",
    "    * Divisão / (Em python as casas decimais serão separadas por \".\" ponto e não \",\" virgula)\n",
    "    * Mod % (Resto da divisão) \n",
    "\n",
    "    Assim como em outras linguagens, o python também diferencia as casas decimais por meio do ponto, bem como a difrenciação do tipos de dados, em operações quando possui um número real, o resultado também será em número real \n",
    "\n",
    "    Ao realizar uma conta com resultado indivisivel, será apresentado um erro \"ZeroDivisionError Traceback (most recent call last)\"\n"
   ]
  },
  {
   "cell_type": "code",
   "execution_count": null,
   "metadata": {},
   "outputs": [],
   "source": [
    "print(1+1)\n",
    "print(2-1)\n",
    "print(2*3)\n",
    "print(2**3)\n",
    "print(2/3)\n",
    "print(2.2 * 5)\n",
    "print(2*5)\n",
    "#print(2/0)\n",
    "print(7 % 3)"
   ]
  },
  {
   "cell_type": "markdown",
   "metadata": {},
   "source": [
    "Aula 3 - Ordem das Operações no Python\n",
    "\n",
    "    As operações em python seguem a mesma ordem e lógica, das operações artiméticas.\n",
    "    Em casos de priorizações diferentes da prioridade matemática, deverá ser realizada a priorização por parênteses tal qual é feito ná matemática \n",
    "    ex: print((2+1)*3), nesse caso será executado primeiro a operação dentro do parênteses posteriormente a multiplicação que está fora."
   ]
  },
  {
   "cell_type": "code",
   "execution_count": null,
   "metadata": {},
   "outputs": [],
   "source": [
    "print(1+2*3)\n",
    "print((2+1)*3)"
   ]
  },
  {
   "cell_type": "markdown",
   "metadata": {},
   "source": [
    "Aula 4 - Operações com texto (String)\n",
    "\n",
    "    Quando estiver algo entre ' ou \" será considerado como string\n",
    "\n",
    "    Para concatenar em python o caractere usuado é +\n",
    "    Ex: print('meu nome é'+' thierry')\n",
    "\n",
    "    Outro comando para verificação se um texto está contido dentro de outro texto o comando utilizado será IN, e seu resultado será booleano \n",
    "        PS: É importante se atentar que o comando IN é case sensitive \n",
    "    EX: print('t' in 'thierry')\n",
    "    E de boa prática no python que se de espaços entre os números das operações seja em strings ou númericas\n",
    "    "
   ]
  },
  {
   "cell_type": "code",
   "execution_count": null,
   "metadata": {},
   "outputs": [],
   "source": [
    "print('thierry')\n",
    "print('t' in 'thierry')\n",
    "print('T' in 'thierry')\n",
    "print('l' in 'lira é meu professor')"
   ]
  },
  {
   "cell_type": "markdown",
   "metadata": {},
   "source": [
    "Aula 5 - Variáveis \n",
    "\n",
    "    Assim como em outras linguagens de programação uma variável em python nada mais é que um nome que é dado para um valor e/ou atributo especifico \n",
    "    EX: Caso esteja realizando a analise de um faturamento de uma loja, e que se saiba que o valor de vendas dias equivale a 1500, no lugar de usar o comando print(1500) a cada vez que se for exibir e ou utilizar esse valor para outros casos, pode-se atribuir esse valor em especifico a uma variável.\n",
    "    \n",
    "    Seguindo a lógica e as boas práticas de programação em python também não é possível realizar a criação de uma variável contendo espaço entre as variáveis, sendo assim a variável em questão deverá conter um dos modelos de nomeação de variáveis, podendo ser o método Camell-CASE , ou um Underline, para separa-las. No curso será seguido o modelo de underline entre palavras de uma variável. \n",
    "\n",
    "    Em python o = após uma variável e o simbolo de atribuição de valor. \n",
    "\n",
    "    Diferente do Java, no python não é preciso realizar a declaração do tipo de variável que está sendo utilizada, pois o python realiza essa distinção de forma automática "
   ]
  },
  {
   "cell_type": "code",
   "execution_count": null,
   "metadata": {},
   "outputs": [],
   "source": [
    "qtde_vendas = 1800\n",
    "nome = 'Thierry'\n",
    "print(qtde_vendas)\n",
    "print (nome)"
   ]
  },
  {
   "cell_type": "markdown",
   "metadata": {},
   "source": [
    "Aula 6 - Um erro comum com variáveis no Jupyter Notebook\n",
    "\n",
    "    No Jupyter notebook, quando se é criado mais de uma célula com mais de uma utilização é necessário que seja lido a leitura de todas as células para que isso possa ser realizado, exemplo nos casos que existem mais de uma célula uma contendo variáveis e outra contendo as operações com essa variáveis logo abaixo, é necessário realizar a leitura/execução da célula que contém as variáveis e posteriormente as célula que contém as operações.\n",
    "\n",
    "    Para que isso seja corrigido isso sera necessário utilizar o comando de run all "
   ]
  },
  {
   "cell_type": "code",
   "execution_count": null,
   "metadata": {},
   "outputs": [],
   "source": [
    "faturamento = 100\n",
    "custo = 60"
   ]
  },
  {
   "cell_type": "code",
   "execution_count": null,
   "metadata": {},
   "outputs": [],
   "source": [
    "lucro = faturamento - custo\n",
    "print(lucro)"
   ]
  },
  {
   "cell_type": "markdown",
   "metadata": {},
   "source": [
    "Aula 7 - Input - Pegando informações do usuário \n",
    "\n",
    "    Para realizar o input dentro do python o comando necessário e o comando input,nos casos em que o input é realizado para auto impressão faz-se necessário realizar a seguinte sintaxe input('o texto a se digitado'). Quando utilizado dessa forma será exibido no console o que foi digitado pelo usuário. Entretanto no VSCODE não será exibido ao usuário uma caixa de dialogo ou alguma interação via console para que esse usuário visualize o que foi digitado.\n",
    "\n",
    "    Quando for necessário realizar o armazenamento do que foi digitado pelo input deverá atribuir a uma variável precedendo o input, fazendo assim com que o valor que foi digitado anteriormente no input seja então armazenado pela variável, dessa maneira não será exibido o \"auto print\" que antes foi realizado, e sim ficará contido na variável aquele valor. \n",
    "\n",
    "    A ordem de atribuição de valor deverá respeitar a ordem nome da variável, simbolo da atribuição e valor da atribuição no atributo. \n",
    "\n",
    "    Ps: Quando está tudo ocorrendo bem será apresentado uma caixa de dialogo acima do VSCODE perto do pesquisar "
   ]
  },
  {
   "cell_type": "code",
   "execution_count": 3,
   "metadata": {},
   "outputs": [
    {
     "name": "stdout",
     "output_type": "stream",
     "text": [
      "Este nome foi exibido através do input e ele foi : thierry Lucas Chaves\n"
     ]
    }
   ],
   "source": [
    "nome = input('Qual é o seu nome ? ')\n",
    "sobrenome = input('Qual seu sobrenome ? ')\n",
    "print('Este nome foi exibido através do input e ele foi : ' + nome + ' ' + sobrenome)"
   ]
  },
  {
   "cell_type": "markdown",
   "metadata": {},
   "source": [
    "Aula 8 - Um erro comum com input no Jupyter\n",
    "\n",
    "    Quando temos 2 inputs em uma célula, e executarmos 2 vezes a a célula pode-se realizar o stop do código ou o restar do kernel no python"
   ]
  },
  {
   "cell_type": "code",
   "execution_count": 5,
   "metadata": {},
   "outputs": [],
   "source": [
    "faturamento = input('Insira o faturamento da empresa')\n",
    "custo = input('Insira o custo da sua empresa')"
   ]
  },
  {
   "cell_type": "markdown",
   "metadata": {},
   "source": [
    "Aula 9 - Os arquivos do Jupyter e como abrir nossos arquivos\n",
    "\n",
    "    Para que possa ser aberto os arquivos do tipo ipynb, será necessário abrir o programa o Jupyter notebook (quando ele é utilizado), e selecionar o arquivo através do caminho \n"
   ]
  },
  {
   "cell_type": "markdown",
   "metadata": {},
   "source": [
    "Aula 10 - Exercícios \n",
    "\n",
    "    E utilizado arquivos do tipo ipynb, nas aulas pois neste modelo de arquivo é possível realizar a mescla dos códigos que estão sendo utilizados, com caixas/células do tipo Markdown, isso facilita o processo de escrita e documentação de um arquivo a ser apresentado em python, bem como também é possível realizar a edição de um texto no Jupyter notebook, quando quiser o adicionar formatação em outros editores no caso o VsCode, para edição de títulos, pode-se usar até (6) níveis de títulos e para tal o comando a ser utilizado e o caractere '#' a cada '#' e precedido de espaço irá diminuir um tamanho de fonte assim \n",
    "    exemplo no  markdown abaixo. \n",
    "Para que seja forçado o a quebra de linha pode se utilizar o comando de quebra de linha assim como no HTML '<'br'>'"
   ]
  },
  {
   "cell_type": "markdown",
   "metadata": {},
   "source": [
    "Aula 12 - Erro comum com o print (Cuidado !)\n",
    "\n",
    "#### Cuidado Especial\n",
    "##### Nunca use o print com = \n",
    "\n",
    "    Um erro comum é fazer algo como :\n",
    "    print = algum valor\n",
    "\n",
    "* Isso não pode ser feito em momento algum. Isso porque colocar o sinal de = atribui um valor ao print, que é um comando interno do Python <br>\n",
    "* Fazer isso vai mudar o que a função print faz e vai gerar o erro nos códigos seguintes. Vamos ver na prática <br>\n",
    "* Caso aconteça sem querer reinicie o Kernel para corrigir "
   ]
  },
  {
   "cell_type": "code",
   "execution_count": 1,
   "metadata": {
    "tags": [
     "parameters"
    ]
   },
   "outputs": [
    {
     "name": "stdout",
     "output_type": "stream",
     "text": [
      "texto\n"
     ]
    }
   ],
   "source": [
    "print('texto')"
   ]
  }
 ],
 "metadata": {
  "kernelspec": {
   "display_name": "Python 3",
   "language": "python",
   "name": "python3"
  },
  "language_info": {
   "codemirror_mode": {
    "name": "ipython",
    "version": 3
   },
   "file_extension": ".py",
   "mimetype": "text/x-python",
   "name": "python",
   "nbconvert_exporter": "python",
   "pygments_lexer": "ipython3",
   "version": "3.11.4"
  }
 },
 "nbformat": 4,
 "nbformat_minor": 2
}
