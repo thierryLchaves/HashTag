{
 "cells": [
  {
   "cell_type": "markdown",
   "metadata": {},
   "source": [
    "### Aula 1 - Por que aprender Strings e a importância pro Python\n",
    "\n",
    "As strings em python são essenciais de ter o conhecimento para se trabalhar, por \"2 motivos\" em especifico, sendo eles <br/>\n",
    "\n",
    "        1º Na maioria das vezes as informações de texto não vem padronizadas, sendo assim saber trabalhar com string lhe fornecerá a base necessária para que as informações sejam organizadas, para limpar as base de dados, sendo que que essa é uma das tarefas mais importantes quando se faz necessário realizar a importação de dados de algum outro lugar. \n",
    "        2º Para o Python a String em si é reconhecida como uma lista array de caracteres , ou seja ao invés de ser definido uma variavél do tipo string, e que essa contenha uma string em si, essa string em Python será uma lista de caracteres exemplo:\n",
    "        texto = 'thierry'\n",
    "        \n",
    "        No exemplo acima o Python irá enxergar o texto como uma lista de 4 itens.\n",
    "        Sendo assim pela linguagem enxergar isso como uma lista, será essencial o aprendizado nessa parte para trabalha-los mais adiantes quando houver uma base de dados etc..\n",
    "        "
   ]
  },
  {
   "cell_type": "markdown",
   "metadata": {},
   "source": [
    "### Aula 2 - Índice e tamanho de String \n",
    "\n",
    "0 1 2 3 4 5 6 7 8 9 10 11 12 13\n",
    "\n",
    "l i r a @ g m a i l .  c  o  m\n",
    "\n",
    "Pegar um item de uma string: texto[índice]"
   ]
  },
  {
   "cell_type": "code",
   "execution_count": 7,
   "metadata": {},
   "outputs": [],
   "source": [
    "email = 'lira@gmail.com'\n",
    "nome = 'João Lira'"
   ]
  },
  {
   "cell_type": "markdown",
   "metadata": {},
   "source": [
    "        No exemplo acima, podemos notar algumas caracteristicas importantes do Python uma delas e que as listas em Python sempre irão começar no indice 0, ou então o primeiro item no caso será o caractere .\n",
    "        Então caso fosse necessário realizar o length dessa lista ela teria 14 caracteres. \n",
    "        \n",
    "\n",
    "        Um dos métodos que pode ser utilizado é o método LEN(),neste método pode tanto ser inserido qual variável será utilizada quando escrever a frase.Com esse método será possível somente saber o tamanho desta lista. \n",
    "        Outro método que pode ser utilizado é o método email[4], este método pode ser utilizado para que seja indentificado / procurado um caractere em especifico, este caso será utilizado quando se sabe o indice do texto em questão. \n"
   ]
  },
  {
   "cell_type": "code",
   "execution_count": 11,
   "metadata": {},
   "outputs": [
    {
     "name": "stdout",
     "output_type": "stream",
     "text": [
      "J\n"
     ]
    }
   ],
   "source": [
    "len(nome)\n",
    "email[0]\n",
    "print(nome[0])"
   ]
  },
  {
   "cell_type": "markdown",
   "metadata": {},
   "source": [
    "### Aula 3 - Índice Negativo e pedaço de string \n",
    "\n",
    "-14 -13 -12 -11 -10 -9 -8 -7 -6 -5 -4 -3 -2 -1\n",
    "l    i    r   a  @   g  m  a  i  l  .  c  o  m\n",
    "\n",
    "Para pegar um texto de trás para frente: texto[índice] -> Onde índice é negativo \n",
    "\n",
    "Para pegar o pedaço de um texto use: (dois pontos).texto[:indice] ou texto[indice:] ou ainda texto[indice:indice]"
   ]
  },
  {
   "cell_type": "code",
   "execution_count": 34,
   "metadata": {},
   "outputs": [
    {
     "name": "stdout",
     "output_type": "stream",
     "text": [
      "@gmail.com\n"
     ]
    }
   ],
   "source": [
    "email = 'lira@gmail.com'\n",
    "nome = 'João Paulo Lira'\n",
    "print(email[4:])"
   ]
  },
  {
   "cell_type": "markdown",
   "metadata": {},
   "source": [
    "Exercícios para Fixação: Basta competar os prints de forma correta"
   ]
  },
  {
   "cell_type": "code",
   "execution_count": 37,
   "metadata": {},
   "outputs": [
    {
     "name": "stdout",
     "output_type": "stream",
     "text": [
      "Tamanho do E-mail 14 caracteres\n",
      "Primeiro caractere l\n",
      "Último caractere m\n",
      "Servidor do E-mail gmail.com\n"
     ]
    }
   ],
   "source": [
    "print('Tamanho do E-mail '+str(len(email))+' caracteres')\n",
    "print('Primeiro caractere ' + str((email[0])))\n",
    "print('Último caractere ' + str((email[-1])))\n",
    "print('Servidor do E-mail ' + email[5:])\n",
    "\n"
   ]
  },
  {
   "cell_type": "markdown",
   "metadata": {},
   "source": [
    "        Quando utilizado a formatação de [:indice], o Python ira entender que o processo a ser realizado deverá ser corresponde a um comando \"ate\", ou seja no exemplo acimma uqando fora realizado o comando print(email[:1]), o Python irá executar a impressão da variável email até que o indice alcance o indice informado. se fosse utilizado o indice -1 ele iriá imprimir todo o texto até antes do indice correspondente. \n",
    "        Dessa maneira exemplificada acima, o python irá utilizar-se do processo de de impressão ou contabiliza (a depender da utilização), da posição do caractere \":(dois pontos)\", ou seja se tal caractere estiver antes do valor do indice o Python irá entender que deverá realizar a leitura da String até o indice indicado, caso seja utilizado após o valor do indice será realizado a leitura daquele indice indicado adiante.Por fim quando desejamos realizar a leitura/captura de um trecho de caracteres, deverá ser incluso os dois valores de indice em um intervalo ex print(email[4:8])"
   ]
  },
  {
   "cell_type": "markdown",
   "metadata": {},
   "source": [
    "### Aula 4 - Operações com String\n",
    "\n",
    " - STR -> Transforma número em String \n",
    " - in  -> Verficar se um texto está contído dentro do outro\n",
    " - operador + -> Concatenar string\n",
    " - format e{} -> Subistitui valores\n",
    " - %s  -> Substitui texto \n",
    " - %d  -> Substitui decimais\n",
    "\n",
    " Vamos deixar uma cartilha para download \n"
   ]
  },
  {
   "cell_type": "code",
   "execution_count": 52,
   "metadata": {},
   "outputs": [],
   "source": [
    "faturamento = 2000\n",
    "custo = 500\n",
    "lucro = faturamento - custo"
   ]
  },
  {
   "cell_type": "markdown",
   "metadata": {},
   "source": [
    "<center>uso do str() e do concatenar com +</center>\n",
    "\n",
    "        Neste método existe um grande problema de utilização, principalmente quando for se utilizar grandes texto ou grandes exibições, nesse método demonstrado, há de se lembrar sempre da inclusão da formatação das variavéls para que estas estejam no formato de string em conjunto da adiçao de 2 símbolos de + a cada nova adição de variável"
   ]
  },
  {
   "cell_type": "code",
   "execution_count": 49,
   "metadata": {},
   "outputs": [
    {
     "name": "stdout",
     "output_type": "stream",
     "text": [
      "O faturamento da loja foi de: 1000O custo foi de: 500O lucro foi de : 500\n"
     ]
    }
   ],
   "source": [
    "print('O faturamento da loja foi de: ' + str(faturamento)+'O custo foi de: '+str(custo)+'O lucro foi de : '+str(lucro))"
   ]
  },
  {
   "cell_type": "markdown",
   "metadata": {},
   "source": [
    "<center> Uso do Format</center>\n",
    "\n",
    "        A utilização do método .format e de melhor utilização e de \"melhor prática\", pois quando utilizamos este processo não se a necessidade de concatenação de uma string com outra, tão pouco da formatação das variáveis a sua adição. \n",
    "        Neste método é utilizado a chamada do método após a finalização do impressão e/ou leitura da string, e onde se deseja realizar a inserção da variavél em questão deverá ser utilizado a adição de {} e ao final da frase a chamada do método .format(), e dentro dos parênteses as variaives na ordem correta que deverá ser exibido. \n",
    "        Existe outra variação deste processo, onde caso a variável a ser exibida, já tenha sido declarada na lista do .format(), pode-se se indicar qual o item deve ser indicado a posição lembrando que ele começa com '0', entretanto deve-se notar que ao realizar esse processo todos demais {} deverão ser preenchidos.  conforme exemplos abaixo:"
   ]
  },
  {
   "cell_type": "code",
   "execution_count": 59,
   "metadata": {},
   "outputs": [
    {
     "name": "stdout",
     "output_type": "stream",
     "text": [
      "O faturamento foi de:2000. O custo foi de 500. e o lucro foi de 1500\n",
      "O faturamento foi de:2000. O custo foi de 500. e o lucro foi de 1500. Lembrando, o faturamento foi de 2000\n"
     ]
    }
   ],
   "source": [
    "print('O faturamento foi de:{}. O custo foi de {}. e o lucro foi de {}'.format(faturamento,custo,lucro))\n",
    "\n",
    "print('O faturamento foi de:{0}. O custo foi de {1}. e o lucro foi de {2}. Lembrando, o faturamento foi de {0}'.format(faturamento,custo,lucro))"
   ]
  },
  {
   "cell_type": "markdown",
   "metadata": {},
   "source": [
    "<center> Uso do %s e %d </center>\n",
    "\n",
    "        Tal qual é utilizado no método .format{}, neste método não há necessidade de realizar adição de concatenação da string e formatação do mesmo, sendo necessário somente a adição dos simbulos %d para números e %s para string, e no final da string qual variavél sera utilizada %antes da declaração da variavel, quando existe mais de uma variavel a ser utilizada, a declaração das variavéis deverá ser tal qual foi utilizada no .formart{}, sendo utilizado % (variavel1, variavel2, variavel3)"
   ]
  },
  {
   "cell_type": "code",
   "execution_count": 62,
   "metadata": {},
   "outputs": [
    {
     "name": "stdout",
     "output_type": "stream",
     "text": [
      "O faturamento doi de : 2000\n"
     ]
    }
   ],
   "source": [
    "print('O faturamento doi de : %s'%faturamento)"
   ]
  },
  {
   "cell_type": "markdown",
   "metadata": {},
   "source": [
    "Uso do in (Mais exercícios práticos nas próximas aulas)"
   ]
  },
  {
   "cell_type": "code",
   "execution_count": 60,
   "metadata": {},
   "outputs": [
    {
     "name": "stdout",
     "output_type": "stream",
     "text": [
      "True\n",
      "False\n"
     ]
    }
   ],
   "source": [
    "print('@' in 'lira@gmail.com')\n",
    "print('@' in 'lira.gmail.com')"
   ]
  },
  {
   "cell_type": "markdown",
   "metadata": {},
   "source": [
    "### Aula 5 - Métodos de String - Presentação\n",
    "\n",
    "#### \"Fórmulas\" de Texto - Métodos de String \n",
    "\n",
    "##### Estrutura \n",
    "\n",
    "- Normalmente usamos a estrutura de texto.método() para fazer as modificações que queremos \n",
    "- Alguns métodos pedem \"argumentos, que são informações que temos para passar para a fórmula (método) para ela funcionar. Esses argumentos são passados dentro do parênteses. \n",
    "\n",
    "#### Como usar:\n",
    "\n",
    "        Não decore os métodos, os que você for mais usando você vai decorar o que precisar. \n",
    "        Mas a dica é: Use essa lista para consulta e busque entender como os métodos funcionam e suas aplicações, para poder consultar e usar quando quiser. \n",
    "\n",
    "PS:Um método nada mais é que uma fórmula para que realiza um comando e faz com que o programa realize uma determinada ação. "
   ]
  },
  {
   "cell_type": "markdown",
   "metadata": {},
   "source": [
    "- capitalize() -> Coloca a 1ª Letra Maiúscula \n",
    "\n",
    "        Uso: \n",
    "                texto = 'lira'\n",
    "                print(texto.capitalize())\n",
    "        Resultado:\n",
    "               'Lira'\n",
    "\n",
    "- casefold() -> Transforma todas as letras em minúsculas (existe lower() mas o casefold é melhor normalmente.) O casefold e mais indicado o uso dado ao fato que além de mais utilizado esse métodos também trata esse caso em outros idiomas.\n",
    "\n",
    "        Uso: \n",
    "                texto = 'Lira'\n",
    "                print(texto.casefold())\n",
    "        Resultado:\n",
    "        'lira'\n",
    "\n",
    "- count() -> Quantidade de vezes que um valor aparece na string.\n",
    "\n",
    "         Uso:\n",
    "                texto = 'lira@yahoo.com.br'\n",
    "                print(texto.count('.'))\n",
    "        Resultado \n",
    "                2\n",
    "\n",
    "\n",
    "- endswith() -> Verifica se o texto termina com um valor especifico e dá como reposta true ou false \n",
    "\n",
    "        Uso:\n",
    "                texto = 'lira@gmail.com'\n",
    "                print(texto.endswith('gmail.com'));\n",
    "        Resultado:\n",
    "                True\n",
    "\n",
    "- find() -> Procura um texto dentro de outro texto e dá como resposta a posição do texto encontrado. \n",
    "\n",
    "        Uso:\n",
    "                texto = 'lira@gmail.com'\n",
    "                print(texto.find('@))\n",
    "        Resultado:\n",
    "                4\n",
    "        obs: Lembrando como funciona a posição nas strings, então o @ está na posição 4\n",
    "        l i r a @ g m a i l .  c  o   m\n",
    "        0 1 2 3 4 5 6 7 8 9 10 11 12  13\n",
    "        \n",
    "\n",
    "- format() -> Formata uma strinf de acordo com os valores passados. Já usamos bastante ao logo do programa. \n",
    "\n",
    "        Uso:\n",
    "                farturamento = 1000\n",
    "                print('O faturamento da loja foi de {} reais.'.format(faturamento))\n",
    "        resultado \n",
    "                'O faturamento da loja foi de 1000 reais.'\n",
    "\n",
    "- isalnum() -> Verifica se um texto é todo feito com caracteres alfanuméricos (Letras e números) -:> Lestras com acentou ou ç são considerados letras para essa função\n",
    "\n",
    "        Uso:\n",
    "                texto = 'João123'\n",
    "                print(texto.isalnum())\n",
    "        Resultado: \n",
    "                True\n",
    "        OBS: Se o texto fosse \"Jo~ao' ou então 'Joao#' o resultado seria false\n",
    "\n",
    "- isalpha() - > Verfica se um texto é todo feito de letras. \n",
    "        \n",
    "        Uso:\n",
    "                texto = 'Joao'\n",
    "                print(texto.isalpha())\n",
    "        Resultado \n",
    "                True\n",
    "OBS: Nesse caso se o texto fosse 'joao123' o resultado seria false, porque 123 não são letras. \n",
    "\n",
    "- isnumeric() -> Verifica se um texto é todo feito por números. \n",
    "\n",
    "        Uso:\n",
    "                texto = '123'\n",
    "                print(texto.isnumeric())\n",
    "        Resultado\n",
    "                true\n",
    "        OBS: Existem os métodos isdigit() e isdecimal() que tem variações pontuais em caractres especiais tipo textos com frações e potências, mas para 99% dos casos eles não vão ser necessários. \n",
    "\n",
    "- replace() -> Substitui um texto por um outro texto em uma string. \n",
    "\n",
    "        Uso:\n",
    "                texto = '1000.00'\n",
    "                print(texto.replace('.',','))\n",
    "        Resultado:\n",
    "                '1000,00'\n",
    "        OBS: O replace precisa de 2 argumentos para funcionar. O 1º é o texto que você quer trocar. O 2º é o texto que você quer colocar no lugar daquele texto que você está tirando. \n",
    "\n",
    "- split() -> Separa uma string de acoro com um delimitador em vários texto diferentes. \n",
    "\n",
    "        Uso:\n",
    "                texto = 'lira@gmail.com'\n",
    "                print(texto.split('@'))\n",
    "        Resultado:\n",
    "                ['lira','gmail.com']\n",
    "        OBS: O delimitador escolhido no uso do split não será apresentado e/ou contabilizado na apresentação ou no retorno desse método.                 \n",
    "\n",
    "- splitlines() -> separa um texto em vários texto de acordo com os \"enters\" do texto \n",
    "\n",
    "        Uso:\n",
    "                texto = ''' Olá, bom dia \n",
    "                Venho por meio desse E-mail lhe informar o faturamento da loja no dia de hoje.\n",
    "                faturamento = R$: 2.500,00'''\n",
    "                print(texto.splitlines())\n",
    "        Resultado:\n",
    "                ['Olá bom dia, 'Venho por meio desse E-mail lhe informar o faturamento da loja no dia de hoje, Faturamento = R$ 2500,00']\n",
    "        \n",
    "        OBS: Quando necessário / desejado é possível realizar a inserção de Strings que contenham \"enters\" entre as frases para a utilização de tal artificio pode-se usar ''' 3' seguidamente \n",
    "\n",
    "- startswith() -> Verifica se a string começa com determinado texto. \n",
    "\n",
    "        Uso:\n",
    "                texto = 'BEB123453'\n",
    "                print(texto.startswith('BEB'))\n",
    "        Resultado:\n",
    "                true\n",
    "\n",
    "- strip() -> Retira caracteres indesejados dos texto. Por padrão, retira espaços \"Extras\" no início e no final \n",
    "\n",
    "        Uso:\n",
    "                texto = ' BEB123453 '\n",
    "                print(texto.strip())\n",
    "        Resultado:\n",
    "                'BEB123453\n",
    "\n",
    "- title() -> Coloca a 1ª letras de cada palavra em maiúscula \n",
    "\n",
    "        Uso:\n",
    "                texto = 'joão paulo lira'\n",
    "                print(texto.title())\n",
    "        Resultado:\n",
    "                'João Paulo Lira'\n",
    "\n",
    "- upper() -> Coloca o texto todo em letra maiúscula \n",
    "\n",
    "        Uso:\n",
    "                texto = 'beb12343'\n",
    "                print(texto.upper())\n",
    "        Resultado:\n",
    "                'BEB12343'\n",
    "                "
   ]
  },
  {
   "cell_type": "code",
   "execution_count": 1,
   "metadata": {},
   "outputs": [
    {
     "name": "stdout",
     "output_type": "stream",
     "text": [
      "Faturamento da loja foi de 1000\n"
     ]
    }
   ],
   "source": [
    "faturamento = 1000\n",
    "\n",
    "print('Faturamento da loja foi de {}'.format(faturamento))"
   ]
  },
  {
   "cell_type": "code",
   "execution_count": 3,
   "metadata": {},
   "outputs": [
    {
     "name": "stdout",
     "output_type": "stream",
     "text": [
      "Thierry\n"
     ]
    }
   ],
   "source": [
    "texto = 'thierry'\n",
    "print(texto.capitalize())"
   ]
  },
  {
   "cell_type": "code",
   "execution_count": 5,
   "metadata": {},
   "outputs": [
    {
     "name": "stdout",
     "output_type": "stream",
     "text": [
      "thierry\n"
     ]
    }
   ],
   "source": [
    "texto = 'Thierry'\n",
    "print(texto.casefold())"
   ]
  },
  {
   "cell_type": "code",
   "execution_count": 10,
   "metadata": {},
   "outputs": [
    {
     "name": "stdout",
     "output_type": "stream",
     "text": [
      "3\n"
     ]
    }
   ],
   "source": [
    "texto = 'thierry.lucaschaves@gmail.com.br'\n",
    "print(texto.count('.'))"
   ]
  },
  {
   "cell_type": "code",
   "execution_count": null,
   "metadata": {},
   "outputs": [],
   "source": [
    "texto = 'thierry.lucas@gmail.com'\n",
    "print(texto.endswith('.com'))\n",
    "print(texto.find('@'))"
   ]
  },
  {
   "cell_type": "code",
   "execution_count": 20,
   "metadata": {},
   "outputs": [
    {
     "name": "stdout",
     "output_type": "stream",
     "text": [
      "True\n",
      "False\n",
      "False\n"
     ]
    }
   ],
   "source": [
    "texto = 'João123'\n",
    "print(texto.isalnum())\n",
    "\n",
    "\n",
    "texto = 'João123'\n",
    "print(texto.isalpha())\n",
    "\n",
    "texto = 'João123'\n",
    "print(texto.isnumeric())"
   ]
  },
  {
   "cell_type": "code",
   "execution_count": 21,
   "metadata": {},
   "outputs": [
    {
     "name": "stdout",
     "output_type": "stream",
     "text": [
      "10000000,00\n"
     ]
    }
   ],
   "source": [
    "texto = '10000000.00'\n",
    "print(texto.replace('.',','))\n"
   ]
  },
  {
   "cell_type": "code",
   "execution_count": 22,
   "metadata": {},
   "outputs": [
    {
     "name": "stdout",
     "output_type": "stream",
     "text": [
      "['thierry.lucaschaves', 'gmail.com.br']\n"
     ]
    }
   ],
   "source": [
    "texto = 'thierry.lucaschaves@gmail.com.br'\n",
    "print(texto.split('@'))"
   ]
  },
  {
   "cell_type": "code",
   "execution_count": 23,
   "metadata": {},
   "outputs": [
    {
     "name": "stdout",
     "output_type": "stream",
     "text": [
      "['Olá, bom dia ', 'Venho por meio deste e-mail lhe informar o faturamento da loja no dia de hoje', 'Faturamento = R$ 2500,00']\n"
     ]
    }
   ],
   "source": [
    "texto = '''Olá, bom dia \n",
    "Venho por meio deste e-mail lhe informar o faturamento da loja no dia de hoje\n",
    "Faturamento = R$ 2500,00'''\n",
    "print(texto.splitlines())"
   ]
  },
  {
   "cell_type": "code",
   "execution_count": 24,
   "metadata": {},
   "outputs": [
    {
     "name": "stdout",
     "output_type": "stream",
     "text": [
      "True\n"
     ]
    }
   ],
   "source": [
    "texto = 'BEB123453'\n",
    "print(texto.startswith('BEB'))"
   ]
  },
  {
   "cell_type": "code",
   "execution_count": 25,
   "metadata": {},
   "outputs": [
    {
     "name": "stdout",
     "output_type": "stream",
     "text": [
      "BEB123453\n"
     ]
    }
   ],
   "source": [
    "texto ='  BEB123453  '\n",
    "print(texto.strip())"
   ]
  },
  {
   "cell_type": "code",
   "execution_count": 26,
   "metadata": {},
   "outputs": [
    {
     "name": "stdout",
     "output_type": "stream",
     "text": [
      "Thierry Lucas Chaves\n"
     ]
    }
   ],
   "source": [
    "texto = 'thierry lucas chaves'\n",
    "print(texto.title())"
   ]
  },
  {
   "cell_type": "code",
   "execution_count": 28,
   "metadata": {},
   "outputs": [
    {
     "name": "stdout",
     "output_type": "stream",
     "text": [
      "BEB12343\n"
     ]
    }
   ],
   "source": [
    "texto = 'beb12343'\n",
    "print(texto.upper())"
   ]
  },
  {
   "cell_type": "markdown",
   "metadata": {},
   "source": [
    "### <center>  Aula 6 - Formatação de números.</center>\n",
    "\n",
    "#### Format - Aula de consulta\n",
    "\n",
    "##### <b> Como usar o format para criar formatações personalizadas em prints e textos </b>"
   ]
  },
  {
   "cell_type": "markdown",
   "metadata": {},
   "source": [
    ":< Alinha o texto à esquerda (Se tiver espaço na tela para isso) </br>\n",
    ":> Alinha o texto à direita (Se tiver espaço na tela para isso) </br>\n",
    ":^ Alinha o texto ao centro (Se tiver espaço na tela para isso) </br>\n",
    ":+ Coloca o sinal na frente do número (independente se é possitivo ou negativo)</br>\n",
    ":, Coloca a vírgula como separador de milhar </br>\n",
    ":_ Coloca o _  como separador de milhar </br>\n",
    ":e Formato Científico </br>\n",
    ":f Número com quantidade fixa de casas decimais </br>\n",
    ":x Formato HEX minúscula ( para cores) </br>\n",
    ":X Formato HEX maiúscula ( para cores) </br>\n",
    ":% Formato percentual </br>"
   ]
  },
  {
   "cell_type": "markdown",
   "metadata": {},
   "source": [
    "- Exemplo de Alinhamento "
   ]
  },
  {
   "cell_type": "code",
   "execution_count": 29,
   "metadata": {},
   "outputs": [
    {
     "name": "stdout",
     "output_type": "stream",
     "text": [
      "Meu E-mai não é thierry.lucaschaves@gmail.com ,show ?\n"
     ]
    }
   ],
   "source": [
    "email = 'thierry.lucaschaves@gmail.com'\n",
    "print('Meu E-mai não é {:<30},show ?'.format(email))"
   ]
  },
  {
   "cell_type": "markdown",
   "metadata": {},
   "source": [
    "- Exemplo de Edição de Sinal "
   ]
  },
  {
   "cell_type": "code",
   "execution_count": 30,
   "metadata": {},
   "outputs": [
    {
     "name": "stdout",
     "output_type": "stream",
     "text": [
      "Faturamento foi +270 e o lucro foi -230\n"
     ]
    }
   ],
   "source": [
    "custo = 500\n",
    "faturamento = 270\n",
    "lucro = faturamento - custo\n",
    "\n",
    "print('Faturamento foi {:+} e o lucro foi {:+}'.format(faturamento,lucro))"
   ]
  }
 ],
 "metadata": {
  "kernelspec": {
   "display_name": "Python 3",
   "language": "python",
   "name": "python3"
  },
  "language_info": {
   "codemirror_mode": {
    "name": "ipython",
    "version": 3
   },
   "file_extension": ".py",
   "mimetype": "text/x-python",
   "name": "python",
   "nbconvert_exporter": "python",
   "pygments_lexer": "ipython3",
   "version": "3.12.0"
  }
 },
 "nbformat": 4,
 "nbformat_minor": 2
}
