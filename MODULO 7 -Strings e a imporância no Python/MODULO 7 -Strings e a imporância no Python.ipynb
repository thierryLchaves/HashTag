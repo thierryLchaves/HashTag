{
 "cells": [
  {
   "cell_type": "markdown",
   "metadata": {},
   "source": [
    "### Aula 1 - Por que aprender Strings e a importância pro Python\n",
    "\n",
    "As strings em python são essenciais de ter o conhecimento para se trabalhar, por \"2 motivos\" em especifico, sendo eles <br/>\n",
    "\n",
    "        1º Na maioria das vezes as informações de texto não vem padronizadas, sendo assim saber trabalhar com string lhe fornecerá a base necessária para que as informações sejam organizadas, para limpar as base de dados, sendo que que essa é uma das tarefas mais importantes quando se faz necessário realizar a importação de dados de algum outro lugar. \n",
    "        2º Para o Python a String em si é reconhecida como uma lista array de caracteres , ou seja ao invés de ser definido uma variavél do tipo string, e que essa contenha uma string em si, essa string em Python será uma lista de caracteres exemplo:\n",
    "        texto = 'thierry'\n",
    "        \n",
    "        No exemplo acima o Python irá enxergar o texto como uma lista de 4 itens.\n",
    "        Sendo assim pela linguagem enxergar isso como uma lista, será essencial o aprendizado nessa parte para trabalha-los mais adiantes quando houver uma base de dados etc..\n",
    "        "
   ]
  },
  {
   "cell_type": "markdown",
   "metadata": {},
   "source": [
    "### Aula 2 - Índice e tamanho de String \n",
    "\n",
    "0 1 2 3 4 5 6 7 8 9 10 11 12 13\n",
    "l i r a @ g m a i l .  c  o  m\n",
    "\n",
    "Pegar um item de uma string: texto[índice]"
   ]
  },
  {
   "cell_type": "code",
   "execution_count": null,
   "metadata": {},
   "outputs": [],
   "source": [
    "email = 'lira@gmail.com'\n",
    "nome = 'João Lira'"
   ]
  },
  {
   "cell_type": "markdown",
   "metadata": {},
   "source": []
  }
 ],
 "metadata": {
  "language_info": {
   "name": "python"
  }
 },
 "nbformat": 4,
 "nbformat_minor": 2
}
