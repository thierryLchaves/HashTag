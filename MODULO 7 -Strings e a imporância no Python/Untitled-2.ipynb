{
 "cells": [
  {
   "cell_type": "markdown",
   "metadata": {},
   "source": [
    "# Relação de Atendimentos gerados JOB 01/10/2024"
   ]
  },
  {
   "cell_type": "markdown",
   "metadata": {},
   "source": [
    "Expectativa de atendimento \n",
    "\n",
    "Total de pacientes \n",
    "\n",
    "\n",
    "cnvn 950\n",
    "\n",
    "cnct 786\n",
    " \n",
    "cnbh 484 \n",
    "\n",
    "cnbt 630\n",
    "\n",
    "\n",
    "Expectativa de geração \n",
    "cnvn 937 \n",
    "\n",
    "cnct 769\n",
    " \n",
    "cnbh 481 \n",
    "\n",
    "cnbt 626\n",
    "\n",
    "Atendimentos gerados\n",
    "\n",
    "cnvn 936\n",
    "\n",
    "cnct 746\n",
    " \n",
    "cnbh 482 \n",
    "\n",
    "cnbt 594\n",
    "\n",
    "\n",
    "Diferença\n",
    "cnvn 14 ok \n",
    "\n",
    "cnct 40 ok \n",
    "\n",
    "cnbh 2 ok \n",
    "\n",
    "cnbt 36 ok \n",
    "\n",
    "\n"
   ]
  },
  {
   "cell_type": "markdown",
   "metadata": {},
   "source": [
    "# Relação de prescrição geradas JOB 01/10/2024"
   ]
  },
  {
   "cell_type": "markdown",
   "metadata": {},
   "source": [
    "Expectativa de atendimento \n",
    "\n",
    "Total de pacientes \n",
    "\n",
    "\n",
    "cnvn 950\n",
    "\n",
    "cnct 786\n",
    " \n",
    "cnbh 484 \n",
    "\n",
    "cnbt 630\n",
    "\n",
    "\n",
    "Expectativa de geração \n",
    "\n",
    "cnvn 940 \n",
    "\n",
    "cnct 716\n",
    " \n",
    "cnbh 482 \n",
    "\n",
    "cnbt 590\n",
    "\n",
    "prescroções gerados\n",
    "\n",
    "cnvn \n",
    "\n",
    "cnct \n",
    " \n",
    "cnbh  466\n",
    "\n",
    "cnbt  518\n",
    "\n",
    "\n",
    "Diferença\n",
    "cnvn 14 ok \n",
    "\n",
    "cnct 40 ok \n",
    "\n",
    "cnbh 19 (Um paciente consta com CNBH na gir porém a escala  é CNVN)\n",
    "\n",
    "cnbt 114 (existem dois paciente a mais com erro que irei verificar depois)\n",
    "\n",
    "\n"
   ]
  }
 ],
 "metadata": {
  "language_info": {
   "name": "python"
  }
 },
 "nbformat": 4,
 "nbformat_minor": 2
}
