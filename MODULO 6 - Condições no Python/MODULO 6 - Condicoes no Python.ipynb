{
 "cells": [
  {
   "cell_type": "markdown",
   "metadata": {},
   "source": [
    "### Aula 1 - Estrutura do IF - Condições no Python\n",
    "\n",
    "        No python assim como em outras linguagens de programação, as variáveis são lidas de cima para baixo. Assim como vimos anteriormente caso a variável seja declarada ou em outro bloco de código, ou se ela for declarada pós a impressão o python ficara com o arquivo que já foi carregado anteriormente. veremos isso no código abaixo "
   ]
  },
  {
   "cell_type": "code",
   "execution_count": null,
   "metadata": {},
   "outputs": [],
   "source": [
    "faturamento = 1000\n",
    "custo = 500\n",
    "\n",
    "#print (lucro)\n",
    "\n",
    "lucro = faturamento - custo\n",
    "\n",
    "print (lucro)\n",
    "\n",
    "custo = 700\n",
    "\n",
    "lucro = faturamento - custo\n",
    "print(lucro)\n"
   ]
  },
  {
   "cell_type": "markdown",
   "metadata": {},
   "source": [
    "        No exemplo acima podemos ver que no caso acima o python não realiza a atualização não orientada da variável, isso pode ser visualizado no caso que mesmo quando o custo é atualizado posteriormente o valor de lucro não será atualizado, se caso realizarmos a atualização somente do custo e não realizarmos o valor de lucro o mesmo terá o valor assumido onde foi armazenado. \n",
    "        Isto só reeitera o que foi dito anteriormente, os códigos sempre serão lidos de cima para baixo, o primeiro valor definido será lido sempre anteriormente ao valor depois."
   ]
  },
  {
   "cell_type": "markdown",
   "metadata": {},
   "source": [
    "### Aula 2 - Blocos e Identação - if dentro de if \n",
    "\n",
    "#### Blocos e Identação \n",
    "\n",
    "##### Estrutura \n",
    "\n",
    "        Sempre que usamos o if ou qualuqer outra estrutura no Python, devemos ususar a identação para dizer para o Programa onde a estrutura começa e onde ela termina. \n",
    "\n",
    "        Isso vai ajudar muito quanto tivermos mais de 1 condição ao mesmo tempo e quanto tivermos várias ações para dentro de um if."
   ]
  },
  {
   "cell_type": "markdown",
   "metadata": {},
   "source": [
    "##### Várias Ações em 1 if:\n",
    "\n",
    "if condicao:<br>\n",
    "     alguma coisa <br>\n",
    "    outra coisa <br>\n",
    "    outra coisa mais <br>\n",
    "    outra coisa ainda mais <br>\n",
    "else : <br>\n",
    "    uma coisa <br>\n",
    "    uma coisa mais <br>\n",
    "    coisa final<br>\n",
    "\n",
    "Conforme o exemplo acima, o Python somente entedera as condições de um if somente pertenceram a aquele bloco de instrução caso o mesmo esteja abaixo / dentro do if com um tab dentro \n",
    "\n",
    "    Sendo assim, obtemos duas vantagens diretas por essa utilização é de que o Python so funciona dessa maneira (ou seja é necessário a utilização de tabulação), a segunda vantagem direta ou indireta dessa condição é de que dessa maneira fica visual a identificação e leitura do código, para visualizar se a condição está dentro do if ou fora do if"
   ]
  },
  {
   "cell_type": "markdown",
   "metadata": {},
   "source": [
    "#### Exemplo\n",
    "\n",
    "        Vamos fazer um novo exemplo abaixo:\n",
    "\n",
    "        Digamos que você precisa criar um programa para um fundo de investimentos conseguir avaliar o resultado de uma cateira de ações e o quanto deverá ser pago \n",
    "\n",
    "        A regra desse fundo de investimentos é:\n",
    "\n",
    "- O fundo se compromete a enregrar no mínimo 5% de retorno ao ano.\n",
    "- Caso o fundo não consiga entregrar os 5% retorno, ele não pode cobrar taxa dos seus investidores. \n",
    "- Caso o fundo consida entregar mais de 5% de retorno, ele irá cobrar 2% de taxa do seus investidores. \n",
    "- Caso o fundo consiga mais de 20% de retorno, ele irá cobrar 4% de taxa  dos seus investidores. \n"
   ]
  },
  {
   "cell_type": "code",
   "execution_count": 22,
   "metadata": {},
   "outputs": [
    {
     "name": "stdout",
     "output_type": "stream",
     "text": [
      "A taxa foi de taxa 0.04\n"
     ]
    }
   ],
   "source": [
    "meta = 0.05\n",
    "taxa = 0 \n",
    "rendimento = float(input('Digita o rendimento'))\n",
    "\n",
    "if rendimento > meta :\n",
    "    if rendimento > 0.20:\n",
    "        taxa = 0.04\n",
    "        print(f'A taxa foi de taxa {taxa}')\n",
    "    else:    \n",
    "        taxa = 0.02\n",
    "        print(f'A taxa foi de {taxa}')\n",
    "else:\n",
    "    taxa = 0 \n",
    "    print(f'A taxa foi de {taxa}')"
   ]
  },
  {
   "cell_type": "markdown",
   "metadata": {},
   "source": [
    "##### Mais de uma condição ao mesmo tempo :"
   ]
  },
  {
   "cell_type": "code",
   "execution_count": null,
   "metadata": {},
   "outputs": [],
   "source": [
    "if condicao_1:\n",
    "    o que fazer se a condição 1 for verdadeira \n",
    "    if condicao_2:\n",
    "        o que fazer se a condição 1 e 2 for verdadeira\n",
    "    else:\n",
    "        o que fazer se a condição 2 for falsa (mas a condição 1 é verdadeira)\n",
    "else:\n",
    "    o que fazer se a condição 1 for falsa"
   ]
  },
  {
   "cell_type": "markdown",
   "metadata": {},
   "source": [
    "#### Cuidado muito importante: Repetição de código \n",
    "\n",
    "    Sempre que possível, evite repetir código. De forma geral \n",
    "    \"Se você está repetindo um código, existe uma forma melhor de fazer\".\n",
    "    \n"
   ]
  },
  {
   "cell_type": "markdown",
   "metadata": {},
   "source": [
    "### Aula 3 - Elif\n",
    "\n",
    "    E se temos mais do que um caso de sim e não ?\n",
    "    \n",
    "    E se tivermos 3 casos ?\n",
    "\n",
    "    Usamos o elif da seguinte forma:"
   ]
  },
  {
   "cell_type": "code",
   "execution_count": null,
   "metadata": {},
   "outputs": [],
   "source": [
    "if condição:\n",
    "    # o que fazzer se a condição 1 for verdadeira\n",
    "elif condição2:\n",
    "    # o que fazer a condição 1 for falsa e a condição 2 for verdadeira \n",
    "else:\n",
    "    # o que fazer se a condição 1 e a condição 2 forem falsas"
   ]
  },
  {
   "cell_type": "markdown",
   "metadata": {},
   "source": [
    "#### Exemplo :\n",
    "\n",
    "    Vamos criar um programa para analisar o bônus dos funcionários de uma empresa (pode parecer \"Simples\", mas uma empresa como a Amazon tem 900.000 funcionários)\n",
    "    \n",
    "    Para os cargos de vendedores,a regra do bônus é de acordo com a meta de vendas da pessoa:\n",
    "- Se ela vendeu abaixo da meta dela, ela não ganha bônus. \n",
    "- Se ela vendeu acima da meta dela, ela ganha como bônus 3% do valor que ela vendeu. \n",
    "- Se ela vendeu mais do que o dobro da meta dela, ela ganha como bônus 7% do valor que ela vendeu. \n",
    "\n",
    "       Vamos criar um programa para avaliar uma pessoa que tinha como meta de vendas 20.000,00 reais e calcular o bônus dela de acordo com o valor de vendas que essa pessoa tiver"
   ]
  },
  {
   "cell_type": "code",
   "execution_count": 32,
   "metadata": {},
   "outputs": [
    {
     "name": "stdout",
     "output_type": "stream",
     "text": [
      "Não foi atingido a meta\n"
     ]
    }
   ],
   "source": [
    "meta_venda = 20000\n",
    "\n",
    "vendas = float(input('Digite o valor de venda'))\n",
    "\n",
    "bonus = 0 \n",
    "\n",
    "if vendas > meta_venda:\n",
    "    bonus = 0.03 * vendas\n",
    "    print(f'O valor recebido foi de {bonus}')\n",
    "elif vendas > (meta_venda * 2):\n",
    "    bonus = 0.07 * vendas\n",
    "    print(f'O valor recebido foi de {bonus}')\n",
    "else:\n",
    "    print('Não foi atingido a meta')"
   ]
  },
  {
   "cell_type": "markdown",
   "metadata": {},
   "source": [
    "### Aula 4 - Comparadores\n",
    "\n",
    "#### Comparadores\n",
    "\n",
    "- == igual \n",
    "- != diferente\n",
    "- ->  maior que (>= maior ou igual ) # o -  é para não modificar a formatação\n",
    "-  <  menor que  (<= menor ou igual)\n",
    "- in texto existe dentro de outro texto \n",
    "- not verifica o contrário da compração \n",
    "\n",
    "Obs: Se em alguma condição você quiser fazer nada, você pode simplesmente escrever:\n",
    "pass\n"
   ]
  },
  {
   "cell_type": "code",
   "execution_count": 2,
   "metadata": {},
   "outputs": [
    {
     "name": "stdout",
     "output_type": "stream",
     "text": [
      "Programa 1\n",
      "Os faturamentos são diferentes\n"
     ]
    }
   ],
   "source": [
    "faturamento_loja_1 = 2500\n",
    "faturamento_loja_2 = 2200\n",
    "email = 'lojas@gmail.com'\n",
    "\n",
    "print('Programa 1')\n",
    "\n",
    "if faturamento_loja_1 == faturamento_loja_2:\n",
    "    print('Os faturamentos são iguais')\n",
    "else:\n",
    "    print('Os faturamentos são diferentes')"
   ]
  },
  {
   "cell_type": "code",
   "execution_count": 5,
   "metadata": {},
   "outputs": [
    {
     "name": "stdout",
     "output_type": "stream",
     "text": [
      "Programa 2\n",
      "E-mail errado\n"
     ]
    }
   ],
   "source": [
    "print('Programa 2')\n",
    "if email =='lojasgmail.com':\n",
    "    print('E-mail correto')\n",
    "else:\n",
    "    print('E-mail errado')"
   ]
  },
  {
   "cell_type": "code",
   "execution_count": 7,
   "metadata": {},
   "outputs": [
    {
     "name": "stdout",
     "output_type": "stream",
     "text": [
      "Programa 3\n"
     ]
    }
   ],
   "source": [
    "print('Programa 3')\n",
    "email_usuario = input('Insira seu E-mail:')\n",
    "if not '@' in email_usuario:\n",
    "    print('Email Invalido')\n",
    "else:\n",
    "    pass"
   ]
  },
  {
   "cell_type": "markdown",
   "metadata": {},
   "source": [
    "###### Sobre o programa 3 \n",
    "        Neste programa será solicitado ao usuário  um input de dados, e posteriormente será validado se o E-mail dado pelo usuário ou não, nessa comparação foi utilizado os comando de NOT que verifica se não contem algo que no caso foi o caractere de @ e o comando in que verifica dentro de uma Array (no caso do python o objeto/variável) aquele argumento informado. \n",
    "        \n",
    "        - Outro ponto a ser notado é que em como na maioria dos casos os E-mail digitados devem conter o @ não seria necessário em um programa alguma mensagem de confirmação ou algo do gênero, sendo assim foi utilizado o comando PASS, para esse processo nesse caso não será exibido nada o comando irá simplesmente passar, Esse cenário e quase equivalente a não adicionar nenhuma condição de caso contrário. mas como foi realizado a adição do ELSE no código foi informado o PASS juntamente. \n",
    "        "
   ]
  },
  {
   "cell_type": "markdown",
   "metadata": {},
   "source": [
    "### Aula 5 - And e Or\n",
    "\n",
    "#### Casos com várias condições /comparações \n",
    "\n",
    "##### Estrutura \n",
    "\n",
    "    Quando temos várias comparações, ao invés de criar IF dentro de IF podemos usar os operadores \"and\" e \"or\" para tratar essa condições. \n",
    "\n",
    "    Funciona assim "
   ]
  },
  {
   "cell_type": "code",
   "execution_count": null,
   "metadata": {},
   "outputs": [],
   "source": [
    "if condicao_1 and condicao_2:\n",
    "    #vai ser executado se as 2 condições forem verdadeiras ao mesmo tempo\n",
    "\n",
    "outro caso:\n",
    "\n",
    "if condicao_1 or condicao_2:\n",
    "    #vai ser executado se pelo menos uma das condições forem verdadeiras"
   ]
  },
  {
   "cell_type": "markdown",
   "metadata": {},
   "source": [
    "##### Exemplo \n",
    "\n",
    "    Vamos voltar ao exemplo de cálculo de meta de vendas dos funcionários. Muitas empresas atribuem bonificação do salário dos funcionários de acordo com o resultado do funcionário e também com o resultado da empresa como um todo. \n",
    "\n",
    "    Nesse caso, a regra funciona da seguinte forma:\n",
    "- Se o funcionário vendeu mais do que a meta de vendas e a loja bateu a meta de vendas da loja, o funcionário ganha 3% do que ele vendeu em bônus. \n",
    "- Caso o funcionário tenha batido a meta de vendas individual dele, mas a loja não tenha batido a meta de vendas da loja como um todo, o funcionário não ganha bônus. "
   ]
  },
  {
   "cell_type": "code",
   "execution_count": 16,
   "metadata": {},
   "outputs": [
    {
     "name": "stdout",
     "output_type": "stream",
     "text": [
      "Funcionário não ganhou bônus\n"
     ]
    }
   ],
   "source": [
    "meta_funcionario = 10000\n",
    "meta_empresa =  250000\n",
    "vendas_funcionario = 5000\n",
    "vendas_loja = 280000\n",
    "\n",
    "if vendas_funcionario >= meta_funcionario and vendas_loja >= meta_empresa:\n",
    "    bonus_funcionario = 0.03 * vendas_funcionario\n",
    "    print(f'Bônus do funcionário foi de {bonus_funcionario}')\n",
    "else:\n",
    "    print('Funcionário não ganhou bônus')"
   ]
  },
  {
   "cell_type": "markdown",
   "metadata": {},
   "source": [
    "##### Outro Exemplo \n",
    "\n",
    "        Agora vamos levar essa análise mais a fundo. \n",
    "        \n",
    "        Nessa empresa, existe um outro caso também que garante que o funcionário ganhe um bônus, independente das vendas que ele faz naquele mês. \n",
    "\n",
    "        Todos mês os diretores da empresa fazem uma avaliação qualitativa de todos os funcionários. Nessa avaliação os diretores dão uma nota de 0 a 10 para os funcionários. Se a nota do funcionário for 9 ou 10, ele também ganha o bônus de 3% de vendas. (Os bônus não são cumulativos)"
   ]
  },
  {
   "cell_type": "code",
   "execution_count": 18,
   "metadata": {},
   "outputs": [
    {
     "name": "stdout",
     "output_type": "stream",
     "text": [
      "Bonus funcionário 150.0\n"
     ]
    }
   ],
   "source": [
    "nota_funcionario = 9\n",
    "meta_nota = 9\n",
    "\n",
    "\n",
    "if nota_funcionario >= meta_nota or (vendas_funcionario >= meta_funcionario and vendas_loja >= meta_empresa):\n",
    "    bonus_funcionario = 0.03 * vendas_funcionario\n",
    "    print(f'Bonus funcionário {bonus_funcionario}')\n",
    "else:\n",
    "    print('Funcionário não ganhou bônus')\n"
   ]
  },
  {
   "cell_type": "code",
   "execution_count": null,
   "metadata": {},
   "outputs": [],
   "source": []
  }
 ],
 "metadata": {
  "kernelspec": {
   "display_name": "Python 3",
   "language": "python",
   "name": "python3"
  },
  "language_info": {
   "codemirror_mode": {
    "name": "ipython",
    "version": 3
   },
   "file_extension": ".py",
   "mimetype": "text/x-python",
   "name": "python",
   "nbconvert_exporter": "python",
   "pygments_lexer": "ipython3",
   "version": "3.11.4"
  }
 },
 "nbformat": 4,
 "nbformat_minor": 2
}
