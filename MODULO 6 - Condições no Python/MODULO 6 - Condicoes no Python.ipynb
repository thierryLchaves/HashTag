{
 "cells": [
  {
   "cell_type": "markdown",
   "metadata": {},
   "source": [
    "### Aula 1 - Estrutura do IF - Condições no Python\n",
    "\n",
    "        No python assim como em outras linguagens de programação, as variáveis são lidas de cima para baixo. Assim como vimos anteriormente caso a variável seja declarada ou em outro bloco de código, ou se ela for declarada pós a impressão o python ficara com o arquivo que já foi carregado anteriormente. veremos isso no código abaixo "
   ]
  },
  {
   "cell_type": "code",
   "execution_count": 6,
   "metadata": {},
   "outputs": [
    {
     "name": "stdout",
     "output_type": "stream",
     "text": [
      "500\n",
      "300\n"
     ]
    }
   ],
   "source": [
    "faturamento = 1000\n",
    "custo = 500\n",
    "\n",
    "#print (lucro)\n",
    "\n",
    "lucro = faturamento - custo\n",
    "\n",
    "print (lucro)\n",
    "\n",
    "custo = 700\n",
    "\n",
    "lucro = faturamento - custo\n",
    "print(lucro)\n"
   ]
  },
  {
   "cell_type": "markdown",
   "metadata": {},
   "source": [
    "        No exemplo acima podemos ver que no caso acima o python não realiza a atualização não orientada da variável, isso pode ser visualizado no caso que mesmo quando o custo é atualizado posteriormente o valor de lucro não será atualizado, se caso realizarmos a atualização somente do custo e não realizarmos o valor de lucro o mesmo terá o valor assumido onde foi armazenado. \n",
    "        Isto só reeitera o que foi dito anteriormente, os códigos sempre serão lidos de cima para baixo, o primeiro valor definido será lido sempre anteriormente ao valor depois."
   ]
  },
  {
   "cell_type": "markdown",
   "metadata": {},
   "source": [
    "### Aula 2 - Blocos e Identação - if dentro de if \n",
    "\n",
    "#### Blocos e Identação \n",
    "\n",
    "##### Estrutura \n",
    "\n",
    "        Sempre que usamos o if ou qualuqer outra estrutura no Python, devemos ususar a identação para dizer para o Programa onde a estrutura começa e onde ela termina. \n",
    "\n",
    "        Isso vai ajudar muito quanto tivermos mais de 1 condição ao mesmo tempo e quanto tivermos várias ações para dentro de um if."
   ]
  },
  {
   "cell_type": "markdown",
   "metadata": {},
   "source": [
    "##### Várias Ações em 1 if:\n",
    "\n",
    "if condicao:<br>\n",
    "     alguma coisa <br>\n",
    "    outra coisa <br>\n",
    "    outra coisa mais <br>\n",
    "    outra coisa ainda mais <br>\n",
    "else : <br>\n",
    "    uma coisa <br>\n",
    "    uma coisa mais <br>\n",
    "    coisa final<br>\n",
    "\n",
    "Conforme o exemplo acima, o Python somente entedera as condições de um if somente pertenceram a aquele bloco de instrução caso o mesmo esteja abaixo / dentro do if com um tab dentro \n",
    "\n",
    "    Sendo assim, obtemos duas vantagens diretas por essa utilização é de que o Python so funciona dessa maneira (ou seja é necessário a utilização de tabulação), a segunda vantagem direta ou indireta dessa condição é de que dessa maneira fica visual a identificação e leitura do código, para visualizar se a condição está dentro do if ou fora do if"
   ]
  },
  {
   "cell_type": "markdown",
   "metadata": {},
   "source": [
    "#### Exemplo\n",
    "\n",
    "        Vamos fazer um novo exemplo abaixo:\n",
    "\n",
    "        Digamos que você precisa criar um programa para um fundo de investimentos conseguir avaliar o resultado de uma cateira de ações e o quanto deverá ser pago \n",
    "\n",
    "        A regra desse fundo de investimentos é:\n",
    "\n",
    "- O fundo se compromete a enregrar no mínimo 5% de retorno ao ano.\n",
    "- Caso o fundo não consiga entregrar os 5% retorno, ele não pode cobrar taxa dos seus investidores. \n",
    "- Caso o fundo consida entregar mais de 5% de retorno, ele irá cobrar 2% de taxa do seus investidores. \n",
    "- Caso o fundo consiga mais de 20% de retorno, ele irá cobrar 4% de taxa  dos seus investidores. \n"
   ]
  },
  {
   "cell_type": "code",
   "execution_count": 7,
   "metadata": {},
   "outputs": [
    {
     "ename": "ValueError",
     "evalue": "could not convert string to float: ''",
     "output_type": "error",
     "traceback": [
      "\u001b[1;31m---------------------------------------------------------------------------\u001b[0m",
      "\u001b[1;31mValueError\u001b[0m                                Traceback (most recent call last)",
      "Cell \u001b[1;32mIn[7], line 3\u001b[0m\n\u001b[0;32m      1\u001b[0m meta \u001b[38;5;241m=\u001b[39m \u001b[38;5;241m0.05\u001b[39m\n\u001b[0;32m      2\u001b[0m taxa \u001b[38;5;241m=\u001b[39m \u001b[38;5;241m0\u001b[39m \n\u001b[1;32m----> 3\u001b[0m rendimento \u001b[38;5;241m=\u001b[39m \u001b[38;5;28;43mfloat\u001b[39;49m\u001b[43m(\u001b[49m\u001b[38;5;28;43minput\u001b[39;49m\u001b[43m(\u001b[49m\u001b[38;5;124;43m'\u001b[39;49m\u001b[38;5;124;43mDigita o rendimento\u001b[39;49m\u001b[38;5;124;43m'\u001b[39;49m\u001b[43m)\u001b[49m\u001b[43m)\u001b[49m\n\u001b[0;32m      5\u001b[0m \u001b[38;5;28;01mif\u001b[39;00m rendimento \u001b[38;5;241m>\u001b[39m meta :\n\u001b[0;32m      6\u001b[0m     \u001b[38;5;28;01mif\u001b[39;00m rendimento \u001b[38;5;241m>\u001b[39m \u001b[38;5;241m0.20\u001b[39m:\n",
      "\u001b[1;31mValueError\u001b[0m: could not convert string to float: ''"
     ]
    }
   ],
   "source": [
    "meta = 0.05\n",
    "taxa = 0 \n",
    "rendimento = float(input('Digita o rendimento'))\n",
    "\n",
    "if rendimento > meta :\n",
    "    if rendimento > 0.20:\n",
    "        taxa = 0.04\n",
    "        print(f'A taxa foi de taxa {taxa}')\n",
    "    else:    \n",
    "        taxa = 0.02\n",
    "        print(f'A taxa foi de {taxa}')\n",
    "else:\n",
    "    taxa = 0 \n",
    "    print(f'A taxa foi de {taxa}')"
   ]
  },
  {
   "cell_type": "markdown",
   "metadata": {},
   "source": [
    "##### Mais de uma condição ao mesmo tempo :"
   ]
  },
  {
   "cell_type": "code",
   "execution_count": null,
   "metadata": {},
   "outputs": [],
   "source": [
    "if condicao_1:\n",
    "    o que fazer se a condição 1 for verdadeira \n",
    "    if condicao_2:\n",
    "        o que fazer se a condição 1 e 2 for verdadeira\n",
    "    else:\n",
    "        o que fazer se a condição 2 for falsa (mas a condição 1 é verdadeira)\n",
    "else:\n",
    "    o que fazer se a condição 1 for falsa"
   ]
  },
  {
   "cell_type": "markdown",
   "metadata": {},
   "source": [
    "#### Cuidado muito importante: Repetição de código \n",
    "\n",
    "    Sempre que possível, evite repetir código. De forma geral \n",
    "    \"Se você está repetindo um código, existe uma forma melhor de fazer\".\n",
    "    \n"
   ]
  },
  {
   "cell_type": "markdown",
   "metadata": {},
   "source": [
    "### Aula 3 - Elif\n",
    "\n",
    "    E se temos mais do que um caso de sim e não ?\n",
    "    \n",
    "    E se tivermos 3 casos ?\n",
    "\n",
    "    Usamos o elif da seguinte forma:"
   ]
  },
  {
   "cell_type": "code",
   "execution_count": null,
   "metadata": {},
   "outputs": [],
   "source": [
    "if condição:\n",
    "    # o que fazzer se a condição 1 for verdadeira\n",
    "elif condição2:\n",
    "    # o que fazer a condição 1 for falsa e a condição 2 for verdadeira \n",
    "else:\n",
    "    # o que fazer se a condição 1 e a condição 2 forem falsas"
   ]
  },
  {
   "cell_type": "markdown",
   "metadata": {},
   "source": [
    "#### Exemplo :\n",
    "\n",
    "    Vamos criar um programa para analisar o bônus dos funcionários de uma empresa (pode parecer \"Simples\", mas uma empresa como a Amazon tem 900.000 funcionários)\n",
    "    \n",
    "    Para os cargos de vendedores,a regra do bônus é de acordo com a meta de vendas da pessoa:\n",
    "- Se ela vendeu abaixo da meta dela, ela não ganha bônus. \n",
    "- Se ela vendeu acima da meta dela, ela ganha como bônus 3% do valor que ela vendeu. \n",
    "- Se ela vendeu mais do que o dobro da meta dela, ela ganha como bônus 7% do valor que ela vendeu. \n",
    "\n",
    "       Vamos criar um programa para avaliar uma pessoa que tinha como meta de vendas 20.000,00 reais e calcular o bônus dela de acordo com o valor de vendas que essa pessoa tiver"
   ]
  },
  {
   "cell_type": "code",
   "execution_count": null,
   "metadata": {},
   "outputs": [
    {
     "name": "stdout",
     "output_type": "stream",
     "text": [
      "Não foi atingido a meta\n"
     ]
    }
   ],
   "source": [
    "meta_venda = 20000\n",
    "\n",
    "vendas = float(input('Digite o valor de venda'))\n",
    "\n",
    "bonus = 0 \n",
    "\n",
    "if vendas > meta_venda:\n",
    "    bonus = 0.03 * vendas\n",
    "    print(f'O valor recebido foi de {bonus}')\n",
    "elif vendas > (meta_venda * 2):\n",
    "    bonus = 0.07 * vendas\n",
    "    print(f'O valor recebido foi de {bonus}')\n",
    "else:\n",
    "    print('Não foi atingido a meta')"
   ]
  },
  {
   "cell_type": "markdown",
   "metadata": {},
   "source": [
    "### Aula 4 - Comparadores\n",
    "\n",
    "#### Comparadores\n",
    "\n",
    "- == igual \n",
    "- != diferente\n",
    "- ->  maior que (>= maior ou igual ) # o -  é para não modificar a formatação\n",
    "-  <  menor que  (<= menor ou igual)\n",
    "- in texto existe dentro de outro texto \n",
    "- not verifica o contrário da compração \n",
    "\n",
    "Obs: Se em alguma condição você quiser fazer nada, você pode simplesmente escrever:\n",
    "pass\n"
   ]
  },
  {
   "cell_type": "code",
   "execution_count": null,
   "metadata": {},
   "outputs": [
    {
     "name": "stdout",
     "output_type": "stream",
     "text": [
      "Programa 1\n",
      "Os faturamentos são diferentes\n"
     ]
    }
   ],
   "source": [
    "faturamento_loja_1 = 2500\n",
    "faturamento_loja_2 = 2200\n",
    "email = 'lojas@gmail.com'\n",
    "\n",
    "print('Programa 1')\n",
    "\n",
    "if faturamento_loja_1 == faturamento_loja_2:\n",
    "    print('Os faturamentos são iguais')\n",
    "else:\n",
    "    print('Os faturamentos são diferentes')"
   ]
  },
  {
   "cell_type": "code",
   "execution_count": null,
   "metadata": {},
   "outputs": [
    {
     "name": "stdout",
     "output_type": "stream",
     "text": [
      "Programa 2\n",
      "E-mail errado\n"
     ]
    }
   ],
   "source": [
    "print('Programa 2')\n",
    "if email =='lojasgmail.com':\n",
    "    print('E-mail correto')\n",
    "else:\n",
    "    print('E-mail errado')"
   ]
  },
  {
   "cell_type": "code",
   "execution_count": null,
   "metadata": {},
   "outputs": [
    {
     "name": "stdout",
     "output_type": "stream",
     "text": [
      "Programa 3\n"
     ]
    }
   ],
   "source": [
    "print('Programa 3')\n",
    "email_usuario = input('Insira seu E-mail:')\n",
    "if not '@' in email_usuario:\n",
    "    print('Email Invalido')\n",
    "else:\n",
    "    pass"
   ]
  },
  {
   "cell_type": "markdown",
   "metadata": {},
   "source": [
    "###### Sobre o programa 3 \n",
    "        Neste programa será solicitado ao usuário  um input de dados, e posteriormente será validado se o E-mail dado pelo usuário ou não, nessa comparação foi utilizado os comando de NOT que verifica se não contem algo que no caso foi o caractere de @ e o comando in que verifica dentro de uma Array (no caso do python o objeto/variável) aquele argumento informado. \n",
    "        \n",
    "        - Outro ponto a ser notado é que em como na maioria dos casos os E-mail digitados devem conter o @ não seria necessário em um programa alguma mensagem de confirmação ou algo do gênero, sendo assim foi utilizado o comando PASS, para esse processo nesse caso não será exibido nada o comando irá simplesmente passar, Esse cenário e quase equivalente a não adicionar nenhuma condição de caso contrário. mas como foi realizado a adição do ELSE no código foi informado o PASS juntamente. \n",
    "        "
   ]
  },
  {
   "cell_type": "markdown",
   "metadata": {},
   "source": [
    "### Aula 5 - And e Or\n",
    "\n",
    "#### Casos com várias condições /comparações \n",
    "\n",
    "##### Estrutura \n",
    "\n",
    "    Quando temos várias comparações, ao invés de criar IF dentro de IF podemos usar os operadores \"and\" e \"or\" para tratar essa condições. \n",
    "\n",
    "    Funciona assim "
   ]
  },
  {
   "cell_type": "code",
   "execution_count": null,
   "metadata": {},
   "outputs": [],
   "source": [
    "if condicao_1 and condicao_2:\n",
    "    #vai ser executado se as 2 condições forem verdadeiras ao mesmo tempo\n",
    "\n",
    "outro caso:\n",
    "\n",
    "if condicao_1 or condicao_2:\n",
    "    #vai ser executado se pelo menos uma das condições forem verdadeiras"
   ]
  },
  {
   "cell_type": "markdown",
   "metadata": {},
   "source": [
    "##### Exemplo \n",
    "\n",
    "    Vamos voltar ao exemplo de cálculo de meta de vendas dos funcionários. Muitas empresas atribuem bonificação do salário dos funcionários de acordo com o resultado do funcionário e também com o resultado da empresa como um todo. \n",
    "\n",
    "    Nesse caso, a regra funciona da seguinte forma:\n",
    "- Se o funcionário vendeu mais do que a meta de vendas e a loja bateu a meta de vendas da loja, o funcionário ganha 3% do que ele vendeu em bônus. \n",
    "- Caso o funcionário tenha batido a meta de vendas individual dele, mas a loja não tenha batido a meta de vendas da loja como um todo, o funcionário não ganha bônus. "
   ]
  },
  {
   "cell_type": "code",
   "execution_count": null,
   "metadata": {},
   "outputs": [
    {
     "name": "stdout",
     "output_type": "stream",
     "text": [
      "Funcionário não ganhou bônus\n"
     ]
    }
   ],
   "source": [
    "meta_funcionario = 10000\n",
    "meta_empresa =  280000\n",
    "vendas_funcionario = 15000\n",
    "vendas_loja = 0\n",
    "\n",
    "if vendas_funcionario >= meta_funcionario and vendas_loja >= meta_empresa:\n",
    "    bonus_funcionario = 0.03 * vendas_funcionario\n",
    "    print(f'Bônus do funcionário foi de {bonus_funcionario}')\n",
    "else:\n",
    "    print('Funcionário não ganhou bônus')"
   ]
  },
  {
   "cell_type": "markdown",
   "metadata": {},
   "source": [
    "##### Outro Exemplo \n",
    "\n",
    "        Agora vamos levar essa análise mais a fundo. \n",
    "        \n",
    "        Nessa empresa, existe um outro caso também que garante que o funcionário ganhe um bônus, independente das vendas que ele faz naquele mês. \n",
    "\n",
    "        Todos mês os diretores da empresa fazem uma avaliação qualitativa de todos os funcionários. Nessa avaliação os diretores dão uma nota de 0 a 10 para os funcionários. Se a nota do funcionário for 9 ou 10, ele também ganha o bônus de 3% de vendas. (Os bônus não são cumulativos)"
   ]
  },
  {
   "cell_type": "code",
   "execution_count": null,
   "metadata": {},
   "outputs": [
    {
     "name": "stdout",
     "output_type": "stream",
     "text": [
      "Bonus funcionário 450.0\n"
     ]
    }
   ],
   "source": [
    "nota_funcionario = 9\n",
    "meta_nota = 9\n",
    "\n",
    "\n",
    "if nota_funcionario >= meta_nota or (vendas_funcionario > meta_funcionario and vendas_loja > meta_empresa):\n",
    "    bonus_funcionario = 0.03 * vendas_funcionario\n",
    "    print(f'Bonus funcionário {bonus_funcionario}')\n",
    "else:\n",
    "    print('Funcionário não ganhou bônus')\n"
   ]
  },
  {
   "cell_type": "markdown",
   "metadata": {},
   "source": [
    "### Aula 6 - Exercícios IF - Parte 1\n",
    "\n",
    "#### Exercício com IF\n",
    "\n",
    "##### 1. Cálculo de Bônus\n",
    "\n",
    "- Crie um programa que calcule e dê print no bônus que os funcionários devem receber segundo a regra:\n",
    "\n",
    "    A meta é 1000 vendas. \n",
    "    Se o valor de vendas for maior ou igual a meta, o valor do bônus do funcionário e de 10% do valor de vendas\n",
    "    Caso contrário o valor de bônus do funcionário é 0 \n",
    "    Print o bônus dos 3 funcionários."
   ]
  },
  {
   "cell_type": "code",
   "execution_count": 38,
   "metadata": {},
   "outputs": [
    {
     "name": "stdout",
     "output_type": "stream",
     "text": [
      "O bonus do funcionário foi de 100.0\n",
      "O bonus do funcionário foi de 0\n",
      "O bonus do funcionário foi de 270.0\n"
     ]
    }
   ],
   "source": [
    "vendas_funcionario1 = 1000\n",
    "vendas_funcionario2 = 770\n",
    "vendas_funcionario3 = 2700\n",
    "\n",
    "valor_meta = 1000\n",
    "bonus = 0\n",
    "\n",
    "if vendas_funcionario1 >= valor_meta:\n",
    "    bonus = (vendas_funcionario1 * 0.1)\n",
    "else:\n",
    "  bonus = 0 \n",
    "print(f'O bonus do funcionário foi de {bonus}')\n",
    "\n",
    "if vendas_funcionario2 >= valor_meta:\n",
    "    bonus = (vendas_funcionario2 * 0.1)\n",
    "else:\n",
    "   bonus = 0 \n",
    "print(f'O bonus do funcionário foi de {bonus}')\n",
    "\n",
    "if vendas_funcionario3 >= valor_meta:\n",
    "    bonus = (vendas_funcionario3 * 0.1)\n",
    "else:\n",
    "   bonus = 0 \n",
    "print(f'O bonus do funcionário foi de {bonus}')\n",
    "\n"
   ]
  },
  {
   "cell_type": "markdown",
   "metadata": {},
   "source": [
    "\n",
    "##### 2. Cálculo de bônus com uma nova regra\n",
    "\n",
    "- Agora, crie um novo código que calcule e dê um print no bônus dos funcionários novamente. Porém há uma nova regra nesse 2º caso:\n",
    "\n",
    "A meta é 1000 vendas \n",
    "Agora, os funcionários que venderem muito acima da meta ganham mais bônus do que os outros. Então o bônus é definido da seguinte forma:\n",
    "\n",
    "- Se vendas funcionário for maior ou igual a 2000, então o bônus é de 15% sobre o valor de vendas. \n",
    "- Se vendas funcionário for menor do que 2000  e maior ou igual a 1000, então o bônus é de 10% sobre o valor de vendas. \n",
    "- Se vendas funcionário for menos do que 1000 então o bônus do funcionário é de 0. \n",
    "\n",
    "Use as mesmas variáveis de vendas_funcionario."
   ]
  },
  {
   "cell_type": "code",
   "execution_count": 43,
   "metadata": {},
   "outputs": [
    {
     "name": "stdout",
     "output_type": "stream",
     "text": [
      "O bonus do funcionário foi de 100.0\n",
      "O bonus do funcionário foi de 0\n",
      "O bonus do funcionário foi de 405.0\n"
     ]
    }
   ],
   "source": [
    "bonus = 0 \n",
    "\n",
    "if vendas_funcionario1 >= 2000:\n",
    "    bonus = (vendas_funcionario1 *0.15)\n",
    "elif vendas_funcionario1  >= valor_meta:\n",
    "    bonus = (vendas_funcionario1 *0.10)\n",
    "else:\n",
    "    bonus = 0 \n",
    "print(f'O bonus do funcionário foi de {bonus}')\n",
    "\n",
    "if vendas_funcionario2 >= 2000:\n",
    "    bonus = (vendas_funcionario2 *0.15)\n",
    "elif vendas_funcionario2 >= valor_meta:\n",
    "    bonus = (vendas_funcionario2*0.10)\n",
    "else:\n",
    "    bonus = 0 \n",
    "print(f'O bonus do funcionário foi de {bonus}')\n",
    "\n",
    "if vendas_funcionario3 >= 2000:\n",
    "    bonus = (vendas_funcionario3 *0.15)\n",
    "elif vendas_funcionario3  >= valor_meta:\n",
    "    bonus = (vendas_funcionario3*0.10)\n",
    "else:\n",
    "    bonus = 0 \n",
    "print(f'O bonus do funcionário foi de {bonus}')"
   ]
  },
  {
   "cell_type": "markdown",
   "metadata": {},
   "source": [
    "### Aula 7 - Comparações Contraintuitivas \n",
    "\n",
    "#### Comparações Contraintuitivas \n",
    "\n",
    "    Existem algumas comparações no Python que não são tão intuitivas quando vemos pela primeira vez, mas que são muito usadas, principalmente por programadores mais experientes. \n",
    "    É bom sabermos alguns exemplos e buscar sempre entender o que aquela comparação está buscando verificar. \n",
    "##### Exemplo 1\n",
    "\n",
    "    Digamos que você está construindo um sistema de controle de vendas e precisa de algumas informações para fazer o cálculo do resultado da loja no fim de um mês"
   ]
  },
  {
   "cell_type": "code",
   "execution_count": 48,
   "metadata": {},
   "outputs": [
    {
     "ename": "ValueError",
     "evalue": "invalid literal for int() with base 10: ''",
     "output_type": "error",
     "traceback": [
      "\u001b[1;31m---------------------------------------------------------------------------\u001b[0m",
      "\u001b[1;31mValueError\u001b[0m                                Traceback (most recent call last)",
      "Cell \u001b[1;32mIn[48], line 4\u001b[0m\n\u001b[0;32m      1\u001b[0m faturamento \u001b[38;5;241m=\u001b[39m \u001b[38;5;28minput\u001b[39m(\u001b[38;5;124m'\u001b[39m\u001b[38;5;124mQual foi o faturamento da loja nesse mês ?\u001b[39m\u001b[38;5;124m'\u001b[39m)\n\u001b[0;32m      2\u001b[0m custo \u001b[38;5;241m=\u001b[39m \u001b[38;5;28minput\u001b[39m(\u001b[38;5;124m'\u001b[39m\u001b[38;5;124mQual foi o custo da loja nesse mês ?\u001b[39m\u001b[38;5;124m'\u001b[39m)\n\u001b[1;32m----> 4\u001b[0m lucro \u001b[38;5;241m=\u001b[39m \u001b[38;5;28;43mint\u001b[39;49m\u001b[43m(\u001b[49m\u001b[43mfaturamento\u001b[49m\u001b[43m)\u001b[49m \u001b[38;5;241m-\u001b[39m \u001b[38;5;28mint\u001b[39m(custo)\n\u001b[0;32m      6\u001b[0m \u001b[38;5;28mprint\u001b[39m(\u001b[38;5;124m'\u001b[39m\u001b[38;5;124mO lucro da loja foi de \u001b[39m\u001b[38;5;132;01m{}\u001b[39;00m\u001b[38;5;124m reais.\u001b[39m\u001b[38;5;124m'\u001b[39m\u001b[38;5;241m.\u001b[39mformat(lucro))\n",
      "\u001b[1;31mValueError\u001b[0m: invalid literal for int() with base 10: ''"
     ]
    }
   ],
   "source": [
    "faturamento = input('Qual foi o faturamento da loja nesse mês ?')\n",
    "custo = input('Qual foi o custo da loja nesse mês ?')\n",
    "\n",
    "lucro = int(faturamento) - int(custo)\n",
    "\n",
    "print('O lucro da loja foi de {} reais.'.format(lucro))"
   ]
  },
  {
   "cell_type": "markdown",
   "metadata": {},
   "source": [
    "#### Resumo\n",
    "\n",
    "Algumas comparações contraintuitivas muito usadas:\n",
    "\n",
    "- if 0:\n",
    "- if \":\n",
    "\n",
    "        Temos outras também mas que são usadas para verificar listas vazias, dicionários vazios, objetos vazios e assim vai. Quando chegarmos nesses  vamos relembrar esse conceitos, mas o importante é saber dessa possibilidade e entender seu uso. \n",
    "    \n",
    "        O problema do código acima está no fato que na declaração acima não existe algum validador ou restrição para verificar se o usuário realizou a inserção de algum valor, no caso acima não é verificado ou \"forçado\" que o usuário digite algum valor, caso não seja preenchido nenhum valor em algumas das variáveis será exibido o erro  tal qual o erro abaixo. \n",
    "'\n",
    "ValueError                                Traceback (most recent call last)\n",
    "Cell In[48], line 4\n",
    "      1 faturamento = input('Qual foi o faturamento da loja nesse mês ?')\n",
    "      2 custo = input('Qual foi o custo da loja nesse mês ?')\n",
    "----> 4 lucro = int(faturamento) - int(custo)\n",
    "      6 print('O lucro da loja foi de {} reais.'.format(lucro))\n",
    "\n",
    "ValueError: invalid literal for int() with base 10: '' '\n",
    "\n",
    "\n",
    "      Outro ponto que podemos verificar no código acima, foi o uso de int(variável) , esse método realiza a conversão de uma variável número em inteiro (Pois o python no input entende tudo como string).\n",
    "\n",
    "      Voltando o caso da não verificação/ forçar que o usuário realize alguma inserção de valores será demonstrado abaixo, outro ponto a se ressaltar e que nos casos do input Vazios o Python irá interpretar / receber esse valores como '' .\n",
    "      Para realizar tal correção é possível realiza-la de 2 formas sendo elas:\n",
    "      if faturamento =='' or if custo =='':\n",
    "      print('Preencha o faturamento corretamente')\n",
    "      Em suma essa maneira irá realizar a comparação de texto vazios. \n",
    "      A segunda maneira e a seguinte\n",
    "      if faturamento:\n",
    "      Nessa método de verificação acontece da seguinte forma, ao declarar a variável somente sem comparação lógica ou condicionante após o Python irá realizar a verificação do objeto está vazio, podendo ser um texto um número etc..."
   ]
  },
  {
   "cell_type": "code",
   "execution_count": 56,
   "metadata": {},
   "outputs": [
    {
     "name": "stdout",
     "output_type": "stream",
     "text": [
      "Preencha o faturamento e lucro corretamente \n"
     ]
    }
   ],
   "source": [
    "faturamento = input('Qual foi o faturamento da loja nesse mês ?')\n",
    "custo = input('Qual foi o custo da loja nesse mês ?')\n",
    "\n",
    "if faturamento and custo:\n",
    "    lucro = int(faturamento) - int(custo)\n",
    "    print('O lucro da loja foi de {} reais.'.format(lucro))\n",
    "else: \n",
    "    print('Preencha o faturamento e lucro corretamente ')"
   ]
  },
  {
   "cell_type": "markdown",
   "metadata": {},
   "source": [
    "### Aula 8 - Exercícios IF - Parte 2\n",
    "\n",
    "#### Exercício com IF\n",
    "\n",
    "##### 1. Criando um mini sistema de controle de estoque\n",
    "\n",
    "- Crie um sistema para ser usado pelo time de controle de estoque de um centro de distribuição. \n",
    "- Imagine que ao fim de todo dia, o time conta quantas unidades de produto existem no estoque. Se tivermos um estoque abaixo do estoque permitido para aquela categoria do produto, o time deve ser avisado (print) para fazer um novo pedido daquele produto. \n",
    "- Cada categoria de produto tem um estoque mínimo diferente, segundo a regra abaixo:\n",
    "- Alimentos -> Estoque mínimo : 50\n",
    "- Bebidas ->  Estoque mínimo : 75\n",
    "- Limpeza ->  Estoque mínimo : 30\n",
    "\n",
    "        Para isso vamos criar um programa que pede 3 inputs do usuário: Nome do produto, categoria e quantidade atual em estoque. \n",
    "\n",
    "        Se o produto tiver abaixo do estoque mínimo categoria dele, o programa deve printar a mensagem \"Solicitar {produto} à equipe de compras, temos umas {unidades} em estoque.\"\n",
    "\n",
    "        Exemplo: Se o usuário preenche os inputs com: bebidas, dolly, 90, o programa não deve exibir nenhuma mensagem. \n",
    "        Agora, se o usuário preenche os inputs com: bebidas, guaraná, 60, o programa deve exibir a mensagem \"Solicitar guaraná à equipe de compras, temos apenas 60 unidades em estoque. \n",
    "\n",
    "        Obs: Lembre de usar o int() para transformar o número pelo usuário no input de string para int. \n",
    "        Obs2: Caso o usuário não preencha alguma das 3 informações, o programa deve exibir uma mensagem para avisá-lo de preencher novamente. \n",
    "\n"
   ]
  },
  {
   "cell_type": "code",
   "execution_count": 84,
   "metadata": {},
   "outputs": [
    {
     "name": "stdout",
     "output_type": "stream",
     "text": [
      "Solicitar arroz à equipe de compras, temos apenas 20 em estoque\n"
     ]
    }
   ],
   "source": [
    "\n",
    "categoria_prod = input('Digite a categoria do produto')\n",
    "nome_prod = input('Digite o nome do produto')\n",
    "qtde_atual = input('Digite a quantidade atual do produto em estoque')\n",
    "\n",
    "if nome_prod and categoria_prod and qtde_atual:\n",
    "    qtde_atual = int(qtde_atual)\n",
    "    if categoria_prod == 'alimentos':\n",
    "        if qtde_atual< 50:\n",
    "            print(f'Solicitar {nome_prod} à equipe de compras, temos apenas {qtde_atual} em estoque')\n",
    "    elif categoria_prod == 'bebidas':\n",
    "        if qtde_atual < 75:\n",
    "            print(f'Solicitar {nome_prod} à equipe de compras, temos apenas {qtde_atual} em estoque')\n",
    "    elif categoria_prod == 'limpeza':\n",
    "        if qtde_atual < 30:\n",
    "            print(f'Solicitar {nome_prod} à equipe de compras, temos apenas {qtde_atual} em estoque')\n",
    "else:\n",
    "    print('Todos os dados devem ser preenchidos comece novamente')"
   ]
  },
  {
   "cell_type": "markdown",
   "metadata": {},
   "source": [
    "### Aula 9 - Exercícios extras - Estruturas de decisão\n"
   ]
  }
 ],
 "metadata": {
  "kernelspec": {
   "display_name": "Python 3",
   "language": "python",
   "name": "python3"
  },
  "language_info": {
   "codemirror_mode": {
    "name": "ipython",
    "version": 3
   },
   "file_extension": ".py",
   "mimetype": "text/x-python",
   "name": "python",
   "nbconvert_exporter": "python",
   "pygments_lexer": "ipython3",
   "version": "3.11.4"
  }
 },
 "nbformat": 4,
 "nbformat_minor": 2
}
